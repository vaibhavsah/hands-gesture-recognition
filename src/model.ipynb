{
 "cells": [
  {
   "cell_type": "markdown",
   "metadata": {},
   "source": [
    "# Gesture Recognition\n",
    "In this group project, you are going to build a 3D Conv model that will be able to predict the 5 gestures correctly. Please import the following libraries to get started."
   ]
  },
  {
   "cell_type": "code",
   "execution_count": 3,
   "metadata": {},
   "outputs": [
    {
     "name": "stderr",
     "output_type": "stream",
     "text": [
      "Using TensorFlow backend.\n"
     ]
    }
   ],
   "source": [
    "import numpy as np\n",
    "import os\n",
    "from scipy.misc import imread, imresize\n",
    "import datetime\n",
    "from skimage.transform import resize\n",
    "import matplotlib.pyplot as plt\n",
    "import keras"
   ]
  },
  {
   "cell_type": "markdown",
   "metadata": {},
   "source": [
    "We set the random seed so that the results don't vary drastically."
   ]
  },
  {
   "cell_type": "code",
   "execution_count": 4,
   "metadata": {},
   "outputs": [],
   "source": [
    "np.random.seed(30)\n",
    "import random as rn\n",
    "rn.seed(30)\n",
    "from keras import backend as K\n",
    "import tensorflow as tf\n",
    "tf.set_random_seed(30)"
   ]
  },
  {
   "cell_type": "markdown",
   "metadata": {},
   "source": [
    "In this block, you read the folder names for training and validation. You also set the `batch_size` here. Note that you set the batch size in such a way that you are able to use the GPU in full capacity. You keep increasing the batch size until the machine throws an error."
   ]
  },
  {
   "cell_type": "code",
   "execution_count": 4,
   "metadata": {},
   "outputs": [],
   "source": [
    "train_doc = np.random.permutation(open('./Project_data/train.csv').readlines())\n",
    "val_doc = np.random.permutation(open('./Project_data/val.csv').readlines())\n",
    "# batch_size = 20 #experiment with the batch size"
   ]
  },
  {
   "cell_type": "markdown",
   "metadata": {},
   "source": [
    "## Generator\n",
    "This is one of the most important part of the code. The overall structure of the generator has been given. In the generator, you are going to preprocess the images as you have images of 2 different dimensions as well as create a batch of video frames. You have to experiment with `img_idx`, `y`,`z` and normalization such that you get high accuracy."
   ]
  },
  {
   "cell_type": "code",
   "execution_count": 5,
   "metadata": {},
   "outputs": [],
   "source": [
    "def generator(source_path, folder_list, batch_size, x, y, z):\n",
    "    print( 'Source path = ', source_path, '; batch size =', batch_size)\n",
    "    img_idx = [x for x in range(0, 30,2)]  #create a list of image numbers you want to use for a particular video\n",
    "    while True:\n",
    "        t = np.random.permutation(folder_list)\n",
    "        num_batches = int(len(t)/batch_size) # calculate the number of batches\n",
    "        for batch in range(num_batches): # we iterate over the number of batches\n",
    "            batch_data = np.zeros((batch_size,x,y,z,3)) # x is the number of images you use for each video, (y,z) is the final size of the input images and 3 is the number of channels RGB\n",
    "            batch_labels = np.zeros((batch_size,5)) # batch_labels is the one hot representation of the output\n",
    "            for folder in range(batch_size): # iterate over the batch_size\n",
    "                imgs = os.listdir(source_path+'/'+ t[folder + (batch*batch_size)].split(';')[0]) # read all the images in the folder\n",
    "                for idx,item in enumerate(img_idx): #  Iterate iver the frames/images of a folder to read them in\n",
    "                    image = imread(source_path+'/'+ t[folder + (batch*batch_size)].strip().split(';')[0]+'/'+imgs[item]).astype(np.float32)\n",
    "                    \n",
    "                    #crop the images and resize them. Note that the images are of 2 different shape \n",
    "                    #and the conv3D will throw error if the inputs in a batch have different shapes\n",
    "                    image=resize(image,(y,z,3)).astype(np.float32)\n",
    "\n",
    "                    batch_data[folder,idx,:,:,0] = (image[:,:,0]-image[:,:,0].min())/(image[:,:,0].max()-image[:,:,0].min())#normalise and feed in the image\n",
    "                    batch_data[folder,idx,:,:,1] = (image[:,:,1]-image[:,:,1].min())/(image[:,:,1].max()-image[:,:,1].min())#normalise and feed in the image\n",
    "                    batch_data[folder,idx,:,:,2] = (image[:,:,2]-image[:,:,2].min())/(image[:,:,2].max()-image[:,:,2].min())#normalise and feed in the image\n",
    "                    \n",
    "                batch_labels[folder, int(t[folder + (batch*batch_size)].strip().split(';')[2])] = 1\n",
    "            yield batch_data, batch_labels #you yield the batch_data and the batch_labels, remember what does yield do\n",
    "\n",
    "        \n",
    "        # write the code for the remaining data points which are left after full batches\n",
    "        if (len(t)%batch_size) != 0:\n",
    "            batch_data = np.zeros((len(t)%batch_size,x,y,z,3))\n",
    "            batch_labels = np.zeros((len(t)%batch_size,5))\n",
    "            for folder in range(len(t)%batch_size):\n",
    "                imgs = os.listdir(source_path+'/'+ t[folder + (num_batches*batch_size)].split(';')[0])\n",
    "                for idx,item in enumerate(img_idx):\n",
    "                    image = plt.imread(source_path+'/'+ t[folder + (num_batches*batch_size)].strip().split(';')[0]+'/'+imgs[item]).astype(np.float32)\n",
    "                    image=resize(image,(y,z,3)).astype(np.float32)\n",
    "                    batch_data[folder,idx,:,:,0] = (image[:,:,0]-image[:,:,0].min())/(image[:,:,0].max()-image[:,:,0].min()) \n",
    "                    batch_data[folder,idx,:,:,1] = (image[:,:,1]-image[:,:,1].min())/(image[:,:,1].max()-image[:,:,1].min()) \n",
    "                    batch_data[folder,idx,:,:,2] = (image[:,:,2]-image[:,:,2].min())/(image[:,:,2].max()-image[:,:,2].min()) \n",
    "\n",
    "                batch_labels[folder, int(t[folder + (num_batches*batch_size)].strip().split(';')[2])] = 1\n",
    "\n",
    "            yield batch_data, batch_labels\n"
   ]
  },
  {
   "cell_type": "markdown",
   "metadata": {},
   "source": [
    "Note here that a video is represented above in the generator as (number of images, height, width, number of channels). Take this into consideration while creating the model architecture."
   ]
  },
  {
   "cell_type": "code",
   "execution_count": 6,
   "metadata": {},
   "outputs": [
    {
     "name": "stdout",
     "output_type": "stream",
     "text": [
      "# training sequences = 663\n",
      "# validation sequences = 100\n"
     ]
    }
   ],
   "source": [
    "curr_dt_time = datetime.datetime.now()\n",
    "train_path = './Project_data/train'\n",
    "val_path = './Project_data/val'\n",
    "num_train_sequences = len(train_doc)\n",
    "print('# training sequences =', num_train_sequences)\n",
    "num_val_sequences = len(val_doc)\n",
    "print('# validation sequences =', num_val_sequences)"
   ]
  },
  {
   "cell_type": "code",
   "execution_count": 7,
   "metadata": {},
   "outputs": [],
   "source": [
    "def train_model(model, num_epochs, num_image_per_video, image_width, image_height, batch_size):\n",
    "    # Let us create the `train_generator` and the `val_generator` which will be used in `.fit_generator`.\n",
    "    \n",
    "    train_generator = generator(train_path, train_doc, batch_size, num_image_per_video, image_width, image_height)\n",
    "    val_generator = generator(val_path, val_doc, batch_size, num_image_per_video, image_width, image_height)\n",
    "    \n",
    "    model_name = 'model_init' + '_' + str(curr_dt_time).replace(' ','').replace(':','_') + '/'\n",
    "    \n",
    "    if not os.path.exists(model_name):\n",
    "        os.mkdir(model_name)\n",
    "\n",
    "    filepath = model_name + 'model-{epoch:05d}-{loss:.5f}-{categorical_accuracy:.5f}-{val_loss:.5f}-{val_categorical_accuracy:.5f}.h5'\n",
    "\n",
    "    checkpoint = ModelCheckpoint(filepath, monitor='val_loss', verbose=1, save_best_only=False, save_weights_only=False, mode='auto', period=1)\n",
    "\n",
    "    LR = ReduceLROnPlateau(monitor='val_loss',factor=0.01,patience=3,min_lr=0.0001,cooldown=1)# write the REducelronplateau code here\n",
    "    callbacks_list = [checkpoint, LR]\n",
    "    \n",
    "    # The `steps_per_epoch` and `validation_steps` are used by `fit_generator` to decide the number of next() calls it need to make.\n",
    "    if (num_train_sequences%batch_size) == 0:\n",
    "        steps_per_epoch = int(num_train_sequences/batch_size)\n",
    "    else:\n",
    "        steps_per_epoch = (num_train_sequences//batch_size) + 1\n",
    "\n",
    "    if (num_val_sequences%batch_size) == 0:\n",
    "        validation_steps = int(num_val_sequences/batch_size)\n",
    "    else:\n",
    "        validation_steps = (num_val_sequences//batch_size) + 1\n",
    "    \n",
    "    # Let us now fit the model. This will start training the model and with the help of the checkpoints, you'll be able to save the model at the end of each epoch.\n",
    "    model.fit_generator(train_generator, steps_per_epoch=steps_per_epoch, epochs=num_epochs, verbose=1, \n",
    "                    callbacks=callbacks_list, validation_data=val_generator, \n",
    "                    validation_steps=validation_steps, class_weight=None, workers=1, initial_epoch=0)"
   ]
  },
  {
   "cell_type": "markdown",
   "metadata": {},
   "source": [
    "## Model\n",
    "Here you make the model using different functionalities that Keras provides. Remember to use `Conv3D` and `MaxPooling3D` and not `Conv2D` and `Maxpooling2D` for a 3D convolution model. You would want to use `TimeDistributed` while building a Conv2D + RNN model. Also remember that the last layer is the softmax. Design the network in such a way that the model is able to give good accuracy on the least number of parameters so that it can fit in the memory of the webcam."
   ]
  },
  {
   "cell_type": "code",
   "execution_count": 8,
   "metadata": {},
   "outputs": [],
   "source": [
    "from keras.models import Sequential, Model\n",
    "from keras.layers import Dense, GRU, Flatten, TimeDistributed, Flatten, BatchNormalization, Activation, Dropout, CuDNNLSTM\n",
    "from keras.layers.convolutional import Conv3D, Conv2D, MaxPooling3D, MaxPooling2D\n",
    "from keras.callbacks import ModelCheckpoint, ReduceLROnPlateau\n",
    "from keras import optimizers\n",
    "\n",
    "#write your model here"
   ]
  },
  {
   "cell_type": "markdown",
   "metadata": {},
   "source": [
    "### Model 1 : Conv2D + RNN"
   ]
  },
  {
   "cell_type": "code",
   "execution_count": 8,
   "metadata": {},
   "outputs": [],
   "source": [
    "class Conv2DModel:\n",
    "    def define_model(self, num_image_per_video, image_width, image_height):\n",
    "        model = Sequential()\n",
    "\n",
    "        model.add(TimeDistributed(Conv2D(8, (3, 3), strides=(2, 2),activation='relu', padding='same'), \n",
    "                                    input_shape=(num_image_per_video, image_width, image_height, 3)))\n",
    "        model.add(TimeDistributed(BatchNormalization()))\n",
    "\n",
    "        model.add(TimeDistributed(Conv2D(16, (3,3), activation='relu')))\n",
    "        model.add(TimeDistributed(BatchNormalization()))\n",
    "        model.add(TimeDistributed(MaxPooling2D((2, 2), strides=(2, 2))))\n",
    "        model.add(Dropout(0.3))\n",
    "\n",
    "        model.add(TimeDistributed(Conv2D(64, (2,2),padding='same', activation='relu')))\n",
    "        model.add(TimeDistributed(BatchNormalization()))\n",
    "        model.add(TimeDistributed(MaxPooling2D((2, 2), strides=(2, 2))))\n",
    "        model.add(Dropout(0.3))\n",
    "\n",
    "        model.add(TimeDistributed(Flatten()))\n",
    "\n",
    "        model.add(Dense(64, activation='relu'))\n",
    "        model.add(Dropout(0.5))\n",
    "        model.add(Dense(128, activation='relu'))\n",
    "        model.add(Dropout(0.5))\n",
    "\n",
    "\n",
    "        model.add(GRU(128, return_sequences=False))\n",
    "        model.add(Dense(5, activation='softmax'))\n",
    "        optimiser = optimizers.Adam()\n",
    "        model.compile(optimizer=optimiser, loss='categorical_crossentropy', metrics=['categorical_accuracy'])\n",
    "        return model"
   ]
  },
  {
   "cell_type": "markdown",
   "metadata": {},
   "source": [
    "### Experiment Run 1: Image Res (84 X 84), Epochs = 25, Batch size = 20, Number of images per video = 20"
   ]
  },
  {
   "cell_type": "markdown",
   "metadata": {},
   "source": [
    "Now that you have written the model, the next step is to `compile` the model. When you print the `summary` of the model, you'll see the total number of parameters you have to train."
   ]
  },
  {
   "cell_type": "code",
   "execution_count": 9,
   "metadata": {},
   "outputs": [
    {
     "ename": "NameError",
     "evalue": "name 'Sequential' is not defined",
     "output_type": "error",
     "traceback": [
      "\u001b[0;31m---------------------------------------------------------------------------\u001b[0m",
      "\u001b[0;31mNameError\u001b[0m                                 Traceback (most recent call last)",
      "\u001b[0;32m<ipython-input-9-6db4e6c87fde>\u001b[0m in \u001b[0;36m<module>\u001b[0;34m()\u001b[0m\n\u001b[1;32m      1\u001b[0m \u001b[0mmodel2D\u001b[0m \u001b[0;34m=\u001b[0m \u001b[0mConv2DModel\u001b[0m\u001b[0;34m(\u001b[0m\u001b[0;34m)\u001b[0m\u001b[0;34m\u001b[0m\u001b[0;34m\u001b[0m\u001b[0m\n\u001b[0;32m----> 2\u001b[0;31m \u001b[0mmodel2D\u001b[0m \u001b[0;34m=\u001b[0m \u001b[0mmodel2D\u001b[0m\u001b[0;34m.\u001b[0m\u001b[0mdefine_model\u001b[0m\u001b[0;34m(\u001b[0m\u001b[0;36m20\u001b[0m\u001b[0;34m,\u001b[0m\u001b[0;36m84\u001b[0m\u001b[0;34m,\u001b[0m\u001b[0;36m84\u001b[0m\u001b[0;34m)\u001b[0m\u001b[0;34m\u001b[0m\u001b[0;34m\u001b[0m\u001b[0m\n\u001b[0m\u001b[1;32m      3\u001b[0m \u001b[0mprint\u001b[0m\u001b[0;34m(\u001b[0m\u001b[0mmodel2D\u001b[0m\u001b[0;34m.\u001b[0m\u001b[0msummary\u001b[0m\u001b[0;34m(\u001b[0m\u001b[0;34m)\u001b[0m\u001b[0;34m)\u001b[0m\u001b[0;34m\u001b[0m\u001b[0;34m\u001b[0m\u001b[0m\n",
      "\u001b[0;32m<ipython-input-8-c0812c2a5c36>\u001b[0m in \u001b[0;36mdefine_model\u001b[0;34m(self, num_image_per_video, image_width, image_height)\u001b[0m\n\u001b[1;32m      1\u001b[0m \u001b[0;32mclass\u001b[0m \u001b[0mConv2DModel\u001b[0m\u001b[0;34m:\u001b[0m\u001b[0;34m\u001b[0m\u001b[0;34m\u001b[0m\u001b[0m\n\u001b[1;32m      2\u001b[0m     \u001b[0;32mdef\u001b[0m \u001b[0mdefine_model\u001b[0m\u001b[0;34m(\u001b[0m\u001b[0mself\u001b[0m\u001b[0;34m,\u001b[0m \u001b[0mnum_image_per_video\u001b[0m\u001b[0;34m,\u001b[0m \u001b[0mimage_width\u001b[0m\u001b[0;34m,\u001b[0m \u001b[0mimage_height\u001b[0m\u001b[0;34m)\u001b[0m\u001b[0;34m:\u001b[0m\u001b[0;34m\u001b[0m\u001b[0;34m\u001b[0m\u001b[0m\n\u001b[0;32m----> 3\u001b[0;31m         \u001b[0mmodel\u001b[0m \u001b[0;34m=\u001b[0m \u001b[0mSequential\u001b[0m\u001b[0;34m(\u001b[0m\u001b[0;34m)\u001b[0m\u001b[0;34m\u001b[0m\u001b[0;34m\u001b[0m\u001b[0m\n\u001b[0m\u001b[1;32m      4\u001b[0m \u001b[0;34m\u001b[0m\u001b[0m\n\u001b[1;32m      5\u001b[0m         model.add(TimeDistributed(Conv2D(8, (3, 3), strides=(2, 2),activation='relu', padding='same'), \n",
      "\u001b[0;31mNameError\u001b[0m: name 'Sequential' is not defined"
     ]
    }
   ],
   "source": [
    "model2D = Conv2DModel()\n",
    "model2D = model2D.define_model(20,84,84)\n",
    "print(model2D.summary())"
   ]
  },
  {
   "cell_type": "code",
   "execution_count": 10,
   "metadata": {},
   "outputs": [
    {
     "name": "stdout",
     "output_type": "stream",
     "text": [
      "Source path =  ./Project_data/val Source path =  ./Project_data/train ; batch size = 20\n",
      "; batch size = 20Epoch 1/25\n",
      "\n"
     ]
    },
    {
     "name": "stderr",
     "output_type": "stream",
     "text": [
      "/mnt/disks/user/anaconda3/lib/python3.6/site-packages/ipykernel_launcher.py:13: DeprecationWarning: `imread` is deprecated!\n",
      "`imread` is deprecated in SciPy 1.0.0, and will be removed in 1.2.0.\n",
      "Use ``imageio.imread`` instead.\n",
      "  del sys.path[0]\n",
      "/mnt/disks/user/anaconda3/lib/python3.6/site-packages/skimage/transform/_warps.py:105: UserWarning: The default mode, 'constant', will be changed to 'reflect' in skimage 0.15.\n",
      "  warn(\"The default mode, 'constant', will be changed to 'reflect' in \"\n",
      "/mnt/disks/user/anaconda3/lib/python3.6/site-packages/skimage/transform/_warps.py:110: UserWarning: Anti-aliasing will be enabled by default in skimage 0.15 to avoid aliasing artifacts when down-sampling images.\n",
      "  warn(\"Anti-aliasing will be enabled by default in skimage 0.15 to \"\n"
     ]
    },
    {
     "name": "stdout",
     "output_type": "stream",
     "text": [
      "34/34 [==============================] - 64s 2s/step - loss: 1.7980 - categorical_accuracy: 0.1957 - val_loss: 1.7854 - val_categorical_accuracy: 0.2300\n",
      "\n",
      "Epoch 00001: saving model to model_init_2020-11-0913_54_06.183482/model-00001-1.80247-0.20060-1.78540-0.23000.h5\n",
      "Epoch 2/25\n",
      "34/34 [==============================] - 57s 2s/step - loss: 1.7079 - categorical_accuracy: 0.2134 - val_loss: 1.6537 - val_categorical_accuracy: 0.2100\n",
      "\n",
      "Epoch 00002: saving model to model_init_2020-11-0913_54_06.183482/model-00002-1.71232-0.20211-1.65371-0.21000.h5\n",
      "Epoch 3/25\n",
      "34/34 [==============================] - 57s 2s/step - loss: 1.6152 - categorical_accuracy: 0.2031 - val_loss: 1.6063 - val_categorical_accuracy: 0.2900\n",
      "\n",
      "Epoch 00003: saving model to model_init_2020-11-0913_54_06.183482/model-00003-1.61598-0.20814-1.60633-0.29000.h5\n",
      "Epoch 4/25\n",
      "34/34 [==============================] - 52s 2s/step - loss: 1.6026 - categorical_accuracy: 0.2252 - val_loss: 1.5758 - val_categorical_accuracy: 0.2400\n",
      "\n",
      "Epoch 00004: saving model to model_init_2020-11-0913_54_06.183482/model-00004-1.60154-0.23077-1.57582-0.24000.h5\n",
      "Epoch 5/25\n",
      "34/34 [==============================] - 49s 1s/step - loss: 1.5985 - categorical_accuracy: 0.2399 - val_loss: 1.5831 - val_categorical_accuracy: 0.2300\n",
      "\n",
      "Epoch 00005: saving model to model_init_2020-11-0913_54_06.183482/model-00005-1.60088-0.24585-1.58312-0.23000.h5\n",
      "Epoch 6/25\n",
      "34/34 [==============================] - 57s 2s/step - loss: 1.5540 - categorical_accuracy: 0.2870 - val_loss: 1.5940 - val_categorical_accuracy: 0.2200\n",
      "\n",
      "Epoch 00006: saving model to model_init_2020-11-0913_54_06.183482/model-00006-1.55570-0.29412-1.59401-0.22000.h5\n",
      "Epoch 7/25\n",
      "34/34 [==============================] - 50s 1s/step - loss: 1.4374 - categorical_accuracy: 0.3812 - val_loss: 1.3918 - val_categorical_accuracy: 0.4300\n",
      "\n",
      "Epoch 00007: saving model to model_init_2020-11-0913_54_06.183482/model-00007-1.43098-0.39065-1.39180-0.43000.h5\n",
      "Epoch 8/25\n",
      "34/34 [==============================] - 50s 1s/step - loss: 1.3104 - categorical_accuracy: 0.4408 - val_loss: 1.4457 - val_categorical_accuracy: 0.4000\n",
      "\n",
      "Epoch 00008: saving model to model_init_2020-11-0913_54_06.183482/model-00008-1.32036-0.42685-1.44575-0.40000.h5\n",
      "Epoch 9/25\n",
      "34/34 [==============================] - 50s 1s/step - loss: 1.2337 - categorical_accuracy: 0.4702 - val_loss: 1.6086 - val_categorical_accuracy: 0.2500\n",
      "\n",
      "Epoch 00009: saving model to model_init_2020-11-0913_54_06.183482/model-00009-1.21186-0.47360-1.60860-0.25000.h5\n",
      "Epoch 10/25\n",
      "34/34 [==============================] - 58s 2s/step - loss: 1.2002 - categorical_accuracy: 0.4812 - val_loss: 1.6987 - val_categorical_accuracy: 0.2200\n",
      "\n",
      "Epoch 00010: saving model to model_init_2020-11-0913_54_06.183482/model-00010-1.20337-0.47662-1.69867-0.22000.h5\n",
      "Epoch 11/25\n",
      "34/34 [==============================] - 49s 1s/step - loss: 1.0202 - categorical_accuracy: 0.5511 - val_loss: 1.5701 - val_categorical_accuracy: 0.2300\n",
      "\n",
      "Epoch 00011: saving model to model_init_2020-11-0913_54_06.183482/model-00011-1.01914-0.55656-1.57007-0.23000.h5\n",
      "Epoch 12/25\n",
      "34/34 [==============================] - 50s 1s/step - loss: 1.0165 - categorical_accuracy: 0.5327 - val_loss: 1.5209 - val_categorical_accuracy: 0.2200\n",
      "\n",
      "Epoch 00012: saving model to model_init_2020-11-0913_54_06.183482/model-00012-1.00581-0.54600-1.52087-0.22000.h5\n",
      "Epoch 13/25\n",
      "34/34 [==============================] - 50s 1s/step - loss: 0.9552 - categorical_accuracy: 0.5710 - val_loss: 1.5532 - val_categorical_accuracy: 0.2400\n",
      "\n",
      "Epoch 00013: saving model to model_init_2020-11-0913_54_06.183482/model-00013-0.96223-0.56863-1.55320-0.24000.h5\n",
      "Epoch 14/25\n",
      "34/34 [==============================] - 50s 1s/step - loss: 0.9491 - categorical_accuracy: 0.5703 - val_loss: 1.5303 - val_categorical_accuracy: 0.2400\n",
      "\n",
      "Epoch 00014: saving model to model_init_2020-11-0913_54_06.183482/model-00014-0.94324-0.57617-1.53032-0.24000.h5\n",
      "Epoch 15/25\n",
      "34/34 [==============================] - 49s 1s/step - loss: 0.9213 - categorical_accuracy: 0.6004 - val_loss: 1.4600 - val_categorical_accuracy: 0.2600\n",
      "\n",
      "Epoch 00015: saving model to model_init_2020-11-0913_54_06.183482/model-00015-0.92203-0.59879-1.45999-0.26000.h5\n",
      "Epoch 16/25\n",
      "34/34 [==============================] - 57s 2s/step - loss: 0.8837 - categorical_accuracy: 0.5990 - val_loss: 1.4505 - val_categorical_accuracy: 0.2600\n",
      "\n",
      "Epoch 00016: saving model to model_init_2020-11-0913_54_06.183482/model-00016-0.88114-0.59729-1.45054-0.26000.h5\n",
      "Epoch 17/25\n",
      "34/34 [==============================] - 58s 2s/step - loss: 0.8571 - categorical_accuracy: 0.6225 - val_loss: 1.5057 - val_categorical_accuracy: 0.2600\n",
      "\n",
      "Epoch 00017: saving model to model_init_2020-11-0913_54_06.183482/model-00017-0.86356-0.62142-1.50572-0.26000.h5\n",
      "Epoch 18/25\n",
      "34/34 [==============================] - 51s 2s/step - loss: 0.8531 - categorical_accuracy: 0.6394 - val_loss: 1.5164 - val_categorical_accuracy: 0.2700\n",
      "\n",
      "Epoch 00018: saving model to model_init_2020-11-0913_54_06.183482/model-00018-0.85987-0.63047-1.51636-0.27000.h5\n",
      "Epoch 19/25\n",
      "34/34 [==============================] - 56s 2s/step - loss: 0.8332 - categorical_accuracy: 0.6372 - val_loss: 1.5540 - val_categorical_accuracy: 0.2600\n",
      "\n",
      "Epoch 00019: saving model to model_init_2020-11-0913_54_06.183482/model-00019-0.83487-0.63650-1.55401-0.26000.h5\n",
      "Epoch 20/25\n",
      "34/34 [==============================] - 54s 2s/step - loss: 0.8229 - categorical_accuracy: 0.6100 - val_loss: 1.5265 - val_categorical_accuracy: 0.3000\n",
      "\n",
      "Epoch 00020: saving model to model_init_2020-11-0913_54_06.183482/model-00020-0.80490-0.61689-1.52653-0.30000.h5\n",
      "Epoch 21/25\n",
      "34/34 [==============================] - 57s 2s/step - loss: 0.7837 - categorical_accuracy: 0.6564 - val_loss: 1.5783 - val_categorical_accuracy: 0.2700\n",
      "\n",
      "Epoch 00021: saving model to model_init_2020-11-0913_54_06.183482/model-00021-0.78363-0.65611-1.57827-0.27000.h5\n",
      "Epoch 22/25\n",
      "34/34 [==============================] - 57s 2s/step - loss: 0.7878 - categorical_accuracy: 0.6350 - val_loss: 1.4955 - val_categorical_accuracy: 0.3500\n",
      "\n",
      "Epoch 00022: saving model to model_init_2020-11-0913_54_06.183482/model-00022-0.78373-0.64253-1.49554-0.35000.h5\n",
      "Epoch 23/25\n",
      "34/34 [==============================] - 55s 2s/step - loss: 0.7677 - categorical_accuracy: 0.6468 - val_loss: 1.5194 - val_categorical_accuracy: 0.3400\n",
      "\n",
      "Epoch 00023: saving model to model_init_2020-11-0913_54_06.183482/model-00023-0.76481-0.65460-1.51943-0.34000.h5\n",
      "Epoch 24/25\n",
      "34/34 [==============================] - 56s 2s/step - loss: 0.7817 - categorical_accuracy: 0.6490 - val_loss: 1.5740 - val_categorical_accuracy: 0.3200\n",
      "\n",
      "Epoch 00024: saving model to model_init_2020-11-0913_54_06.183482/model-00024-0.76565-0.64857-1.57399-0.32000.h5\n",
      "Epoch 25/25\n",
      "34/34 [==============================] - 59s 2s/step - loss: 0.7656 - categorical_accuracy: 0.6748 - val_loss: 1.6000 - val_categorical_accuracy: 0.3700\n",
      "\n",
      "Epoch 00025: saving model to model_init_2020-11-0913_54_06.183482/model-00025-0.74177-0.68326-1.59997-0.37000.h5\n"
     ]
    }
   ],
   "source": [
    "train_model(model2D, 25, 20, 84, 84, 20)"
   ]
  },
  {
   "cell_type": "markdown",
   "metadata": {},
   "source": [
    "### Experiment Run 2: Image Res (100 X 100), Epochs = 25, Batch size = 20, Number of Images per video = 18"
   ]
  },
  {
   "cell_type": "markdown",
   "metadata": {},
   "source": [
    "Now that you have written the model, the next step is to `compile` the model. When you print the `summary` of the model, you'll see the total number of parameters you have to train."
   ]
  },
  {
   "cell_type": "code",
   "execution_count": 15,
   "metadata": {},
   "outputs": [
    {
     "name": "stdout",
     "output_type": "stream",
     "text": [
      "_________________________________________________________________\n",
      "Layer (type)                 Output Shape              Param #   \n",
      "=================================================================\n",
      "time_distributed_28 (TimeDis (None, 18, 50, 50, 8)     224       \n",
      "_________________________________________________________________\n",
      "time_distributed_29 (TimeDis (None, 18, 50, 50, 8)     32        \n",
      "_________________________________________________________________\n",
      "time_distributed_30 (TimeDis (None, 18, 48, 48, 16)    1168      \n",
      "_________________________________________________________________\n",
      "time_distributed_31 (TimeDis (None, 18, 48, 48, 16)    64        \n",
      "_________________________________________________________________\n",
      "time_distributed_32 (TimeDis (None, 18, 24, 24, 16)    0         \n",
      "_________________________________________________________________\n",
      "dropout_13 (Dropout)         (None, 18, 24, 24, 16)    0         \n",
      "_________________________________________________________________\n",
      "time_distributed_33 (TimeDis (None, 18, 24, 24, 64)    4160      \n",
      "_________________________________________________________________\n",
      "time_distributed_34 (TimeDis (None, 18, 24, 24, 64)    256       \n",
      "_________________________________________________________________\n",
      "time_distributed_35 (TimeDis (None, 18, 12, 12, 64)    0         \n",
      "_________________________________________________________________\n",
      "dropout_14 (Dropout)         (None, 18, 12, 12, 64)    0         \n",
      "_________________________________________________________________\n",
      "time_distributed_36 (TimeDis (None, 18, 9216)          0         \n",
      "_________________________________________________________________\n",
      "dense_10 (Dense)             (None, 18, 64)            589888    \n",
      "_________________________________________________________________\n",
      "dropout_15 (Dropout)         (None, 18, 64)            0         \n",
      "_________________________________________________________________\n",
      "dense_11 (Dense)             (None, 18, 128)           8320      \n",
      "_________________________________________________________________\n",
      "dropout_16 (Dropout)         (None, 18, 128)           0         \n",
      "_________________________________________________________________\n",
      "gru_4 (GRU)                  (None, 128)               98688     \n",
      "_________________________________________________________________\n",
      "dense_12 (Dense)             (None, 5)                 645       \n",
      "=================================================================\n",
      "Total params: 703,445\n",
      "Trainable params: 703,269\n",
      "Non-trainable params: 176\n",
      "_________________________________________________________________\n",
      "None\n"
     ]
    }
   ],
   "source": [
    "model2D = Conv2DModel()\n",
    "model2D = model2D.define_model(18,100,100)\n",
    "print(model2D.summary())"
   ]
  },
  {
   "cell_type": "code",
   "execution_count": 16,
   "metadata": {},
   "outputs": [
    {
     "name": "stdout",
     "output_type": "stream",
     "text": [
      "Source path =  ./Project_data/val ; batch size = 20\n",
      "Source path =  ./Project_data/train ; batch size = 20\n",
      "Epoch 1/25\n"
     ]
    },
    {
     "name": "stderr",
     "output_type": "stream",
     "text": [
      "/mnt/disks/user/anaconda3/lib/python3.6/site-packages/ipykernel_launcher.py:13: DeprecationWarning: `imread` is deprecated!\n",
      "`imread` is deprecated in SciPy 1.0.0, and will be removed in 1.2.0.\n",
      "Use ``imageio.imread`` instead.\n",
      "  del sys.path[0]\n",
      "/mnt/disks/user/anaconda3/lib/python3.6/site-packages/skimage/transform/_warps.py:105: UserWarning: The default mode, 'constant', will be changed to 'reflect' in skimage 0.15.\n",
      "  warn(\"The default mode, 'constant', will be changed to 'reflect' in \"\n",
      "/mnt/disks/user/anaconda3/lib/python3.6/site-packages/skimage/transform/_warps.py:110: UserWarning: Anti-aliasing will be enabled by default in skimage 0.15 to avoid aliasing artifacts when down-sampling images.\n",
      "  warn(\"Anti-aliasing will be enabled by default in skimage 0.15 to \"\n"
     ]
    },
    {
     "name": "stdout",
     "output_type": "stream",
     "text": [
      "34/34 [==============================] - 60s 2s/step - loss: 1.9150 - categorical_accuracy: 0.1840 - val_loss: 1.7782 - val_categorical_accuracy: 0.2300\n",
      "\n",
      "Epoch 00001: saving model to model_init_2020-11-0913_54_06.183482/model-00001-1.91598-0.18854-1.77817-0.23000.h5\n",
      "Epoch 2/25\n",
      "34/34 [==============================] - 52s 2s/step - loss: 1.9249 - categorical_accuracy: 0.1943 - val_loss: 1.7102 - val_categorical_accuracy: 0.2500\n",
      "\n",
      "Epoch 00002: saving model to model_init_2020-11-0913_54_06.183482/model-00002-1.91747-0.19910-1.71023-0.25000.h5\n",
      "Epoch 3/25\n",
      "34/34 [==============================] - 56s 2s/step - loss: 1.9140 - categorical_accuracy: 0.1825 - val_loss: 1.7895 - val_categorical_accuracy: 0.1200\n",
      "\n",
      "Epoch 00003: saving model to model_init_2020-11-0913_54_06.183482/model-00003-1.90480-0.18703-1.78949-0.12000.h5\n",
      "Epoch 4/25\n",
      "34/34 [==============================] - 53s 2s/step - loss: 1.8320 - categorical_accuracy: 0.2259 - val_loss: 1.6464 - val_categorical_accuracy: 0.1800\n",
      "\n",
      "Epoch 00004: saving model to model_init_2020-11-0913_54_06.183482/model-00004-1.82903-0.22323-1.64640-0.18000.h5\n",
      "Epoch 5/25\n",
      "34/34 [==============================] - 62s 2s/step - loss: 1.7714 - categorical_accuracy: 0.2075 - val_loss: 1.6467 - val_categorical_accuracy: 0.2100\n",
      "\n",
      "Epoch 00005: saving model to model_init_2020-11-0913_54_06.183482/model-00005-1.76852-0.21267-1.64668-0.21000.h5\n",
      "Epoch 6/25\n",
      "34/34 [==============================] - 53s 2s/step - loss: 1.8560 - categorical_accuracy: 0.1898 - val_loss: 1.6860 - val_categorical_accuracy: 0.2100\n",
      "\n",
      "Epoch 00006: saving model to model_init_2020-11-0913_54_06.183482/model-00006-1.86287-0.19457-1.68602-0.21000.h5\n",
      "Epoch 7/25\n",
      "34/34 [==============================] - 54s 2s/step - loss: 1.8479 - categorical_accuracy: 0.1928 - val_loss: 1.6621 - val_categorical_accuracy: 0.2400\n",
      "\n",
      "Epoch 00007: saving model to model_init_2020-11-0913_54_06.183482/model-00007-1.84481-0.19759-1.66210-0.24000.h5\n",
      "Epoch 8/25\n",
      "34/34 [==============================] - 55s 2s/step - loss: 1.8095 - categorical_accuracy: 0.1862 - val_loss: 1.6442 - val_categorical_accuracy: 0.2400\n",
      "\n",
      "Epoch 00008: saving model to model_init_2020-11-0913_54_06.183482/model-00008-1.81473-0.18250-1.64424-0.24000.h5\n",
      "Epoch 9/25\n",
      "34/34 [==============================] - 53s 2s/step - loss: 1.8365 - categorical_accuracy: 0.1707 - val_loss: 1.6326 - val_categorical_accuracy: 0.2100\n",
      "\n",
      "Epoch 00009: saving model to model_init_2020-11-0913_54_06.183482/model-00009-1.82821-0.17496-1.63257-0.21000.h5\n",
      "Epoch 10/25\n",
      "34/34 [==============================] - 56s 2s/step - loss: 1.7641 - categorical_accuracy: 0.2244 - val_loss: 1.6769 - val_categorical_accuracy: 0.2300\n",
      "\n",
      "Epoch 00010: saving model to model_init_2020-11-0913_54_06.183482/model-00010-1.77523-0.22172-1.67687-0.23000.h5\n",
      "Epoch 11/25\n",
      "34/34 [==============================] - 53s 2s/step - loss: 1.7922 - categorical_accuracy: 0.1810 - val_loss: 1.6483 - val_categorical_accuracy: 0.2700\n",
      "\n",
      "Epoch 00011: saving model to model_init_2020-11-0913_54_06.183482/model-00011-1.79030-0.18552-1.64829-0.27000.h5\n",
      "Epoch 12/25\n",
      "34/34 [==============================] - 53s 2s/step - loss: 1.7767 - categorical_accuracy: 0.1957 - val_loss: 1.7475 - val_categorical_accuracy: 0.2300\n",
      "\n",
      "Epoch 00012: saving model to model_init_2020-11-0913_54_06.183482/model-00012-1.79487-0.18401-1.74754-0.23000.h5\n",
      "Epoch 13/25\n",
      "34/34 [==============================] - 56s 2s/step - loss: 1.7495 - categorical_accuracy: 0.2016 - val_loss: 1.7432 - val_categorical_accuracy: 0.1900\n",
      "\n",
      "Epoch 00013: saving model to model_init_2020-11-0913_54_06.183482/model-00013-1.75265-0.20664-1.74316-0.19000.h5\n",
      "Epoch 14/25\n",
      "34/34 [==============================] - 62s 2s/step - loss: 1.7367 - categorical_accuracy: 0.2134 - val_loss: 1.7028 - val_categorical_accuracy: 0.1900\n",
      "\n",
      "Epoch 00014: saving model to model_init_2020-11-0913_54_06.183482/model-00014-1.73643-0.21870-1.70276-0.19000.h5\n",
      "Epoch 15/25\n",
      "34/34 [==============================] - 59s 2s/step - loss: 1.7174 - categorical_accuracy: 0.1928 - val_loss: 1.7045 - val_categorical_accuracy: 0.1900\n",
      "\n",
      "Epoch 00015: saving model to model_init_2020-11-0913_54_06.183482/model-00015-1.71214-0.19759-1.70449-0.19000.h5\n",
      "Epoch 16/25\n",
      "34/34 [==============================] - 60s 2s/step - loss: 1.6682 - categorical_accuracy: 0.2266 - val_loss: 1.6491 - val_categorical_accuracy: 0.1700\n",
      "\n",
      "Epoch 00016: saving model to model_init_2020-11-0913_54_06.183482/model-00016-1.67484-0.21569-1.64905-0.17000.h5\n",
      "Epoch 17/25\n",
      "34/34 [==============================] - 52s 2s/step - loss: 1.6972 - categorical_accuracy: 0.2009 - val_loss: 1.6625 - val_categorical_accuracy: 0.1600\n",
      "\n",
      "Epoch 00017: saving model to model_init_2020-11-0913_54_06.183482/model-00017-1.70239-0.19759-1.66255-0.16000.h5\n",
      "Epoch 18/25\n",
      "34/34 [==============================] - 52s 2s/step - loss: 1.6761 - categorical_accuracy: 0.2200 - val_loss: 1.6580 - val_categorical_accuracy: 0.1900\n",
      "\n",
      "Epoch 00018: saving model to model_init_2020-11-0913_54_06.183482/model-00018-1.67655-0.21719-1.65805-0.19000.h5\n",
      "Epoch 19/25\n",
      "34/34 [==============================] - 61s 2s/step - loss: 1.6651 - categorical_accuracy: 0.2163 - val_loss: 1.6473 - val_categorical_accuracy: 0.2100\n",
      "\n",
      "Epoch 00019: saving model to model_init_2020-11-0913_54_06.183482/model-00019-1.66187-0.22172-1.64727-0.21000.h5\n",
      "Epoch 20/25\n",
      "34/34 [==============================] - 56s 2s/step - loss: 1.6071 - categorical_accuracy: 0.2222 - val_loss: 1.6410 - val_categorical_accuracy: 0.2100\n",
      "\n",
      "Epoch 00020: saving model to model_init_2020-11-0913_54_06.183482/model-00020-1.60517-0.22775-1.64104-0.21000.h5\n",
      "Epoch 21/25\n",
      "34/34 [==============================] - 55s 2s/step - loss: 1.6236 - categorical_accuracy: 0.2112 - val_loss: 1.6481 - val_categorical_accuracy: 0.2100\n",
      "\n",
      "Epoch 00021: saving model to model_init_2020-11-0913_54_06.183482/model-00021-1.62273-0.20814-1.64806-0.21000.h5\n",
      "Epoch 22/25\n",
      "34/34 [==============================] - 53s 2s/step - loss: 1.6263 - categorical_accuracy: 0.2141 - val_loss: 1.6890 - val_categorical_accuracy: 0.2100\n",
      "\n",
      "Epoch 00022: saving model to model_init_2020-11-0913_54_06.183482/model-00022-1.62692-0.21116-1.68901-0.21000.h5\n",
      "Epoch 23/25\n",
      "34/34 [==============================] - 57s 2s/step - loss: 1.6089 - categorical_accuracy: 0.2406 - val_loss: 1.6760 - val_categorical_accuracy: 0.2100\n",
      "\n",
      "Epoch 00024: saving model to model_init_2020-11-0913_54_06.183482/model-00024-1.60916-0.23831-1.67603-0.21000.h5\n",
      "Epoch 25/25\n",
      "34/34 [==============================] - 56s 2s/step - loss: 1.5930 - categorical_accuracy: 0.2318 - val_loss: 1.6802 - val_categorical_accuracy: 0.2100\n",
      "\n",
      "Epoch 00025: saving model to model_init_2020-11-0913_54_06.183482/model-00025-1.59485-0.22926-1.68021-0.21000.h5\n"
     ]
    }
   ],
   "source": [
    "train_model(model2D, 25, 18, 100, 100, 20)"
   ]
  },
  {
   "cell_type": "markdown",
   "metadata": {},
   "source": [
    "### Experiment Run 3: Image Res (120 X 120), Epochs = 30, Batch size = 25, Number of Images per video = 30"
   ]
  },
  {
   "cell_type": "markdown",
   "metadata": {},
   "source": [
    "Now that you have written the model, the next step is to `compile` the model. When you print the `summary` of the model, you'll see the total number of parameters you have to train."
   ]
  },
  {
   "cell_type": "code",
   "execution_count": 17,
   "metadata": {},
   "outputs": [
    {
     "name": "stdout",
     "output_type": "stream",
     "text": [
      "_________________________________________________________________\n",
      "Layer (type)                 Output Shape              Param #   \n",
      "=================================================================\n",
      "time_distributed_37 (TimeDis (None, 30, 60, 60, 8)     224       \n",
      "_________________________________________________________________\n",
      "time_distributed_38 (TimeDis (None, 30, 60, 60, 8)     32        \n",
      "_________________________________________________________________\n",
      "time_distributed_39 (TimeDis (None, 30, 58, 58, 16)    1168      \n",
      "_________________________________________________________________\n",
      "time_distributed_40 (TimeDis (None, 30, 58, 58, 16)    64        \n",
      "_________________________________________________________________\n",
      "time_distributed_41 (TimeDis (None, 30, 29, 29, 16)    0         \n",
      "_________________________________________________________________\n",
      "dropout_17 (Dropout)         (None, 30, 29, 29, 16)    0         \n",
      "_________________________________________________________________\n",
      "time_distributed_42 (TimeDis (None, 30, 29, 29, 64)    4160      \n",
      "_________________________________________________________________\n",
      "time_distributed_43 (TimeDis (None, 30, 29, 29, 64)    256       \n",
      "_________________________________________________________________\n",
      "time_distributed_44 (TimeDis (None, 30, 14, 14, 64)    0         \n",
      "_________________________________________________________________\n",
      "dropout_18 (Dropout)         (None, 30, 14, 14, 64)    0         \n",
      "_________________________________________________________________\n",
      "time_distributed_45 (TimeDis (None, 30, 12544)         0         \n",
      "_________________________________________________________________\n",
      "dense_13 (Dense)             (None, 30, 64)            802880    \n",
      "_________________________________________________________________\n",
      "dropout_19 (Dropout)         (None, 30, 64)            0         \n",
      "_________________________________________________________________\n",
      "dense_14 (Dense)             (None, 30, 128)           8320      \n",
      "_________________________________________________________________\n",
      "dropout_20 (Dropout)         (None, 30, 128)           0         \n",
      "_________________________________________________________________\n",
      "gru_5 (GRU)                  (None, 128)               98688     \n",
      "_________________________________________________________________\n",
      "dense_15 (Dense)             (None, 5)                 645       \n",
      "=================================================================\n",
      "Total params: 916,437\n",
      "Trainable params: 916,261\n",
      "Non-trainable params: 176\n",
      "_________________________________________________________________\n",
      "None\n"
     ]
    }
   ],
   "source": [
    "model2D = Conv2DModel()\n",
    "model2D = model2D.define_model(30,120,120)\n",
    "print(model2D.summary())"
   ]
  },
  {
   "cell_type": "code",
   "execution_count": 18,
   "metadata": {},
   "outputs": [
    {
     "name": "stdout",
     "output_type": "stream",
     "text": [
      "Source path =  ./Project_data/val ; batch size = 25\n",
      "Source path =  ./Project_data/train ; batch size = 25\n",
      "Epoch 1/25\n"
     ]
    },
    {
     "name": "stderr",
     "output_type": "stream",
     "text": [
      "/mnt/disks/user/anaconda3/lib/python3.6/site-packages/ipykernel_launcher.py:13: DeprecationWarning: `imread` is deprecated!\n",
      "`imread` is deprecated in SciPy 1.0.0, and will be removed in 1.2.0.\n",
      "Use ``imageio.imread`` instead.\n",
      "  del sys.path[0]\n",
      "/mnt/disks/user/anaconda3/lib/python3.6/site-packages/skimage/transform/_warps.py:105: UserWarning: The default mode, 'constant', will be changed to 'reflect' in skimage 0.15.\n",
      "  warn(\"The default mode, 'constant', will be changed to 'reflect' in \"\n",
      "/mnt/disks/user/anaconda3/lib/python3.6/site-packages/skimage/transform/_warps.py:110: UserWarning: Anti-aliasing will be enabled by default in skimage 0.15 to avoid aliasing artifacts when down-sampling images.\n",
      "  warn(\"Anti-aliasing will be enabled by default in skimage 0.15 to \"\n"
     ]
    },
    {
     "name": "stdout",
     "output_type": "stream",
     "text": [
      "27/27 [==============================] - 78s 3s/step - loss: 1.7787 - categorical_accuracy: 0.2029 - val_loss: 1.6622 - val_categorical_accuracy: 0.2200\n",
      "\n",
      "Epoch 00001: saving model to model_init_2020-11-0913_54_06.183482/model-00001-1.77816-0.20513-1.66225-0.22000.h5\n",
      "Epoch 2/25\n",
      "27/27 [==============================] - 64s 2s/step - loss: 1.6350 - categorical_accuracy: 0.2248 - val_loss: 1.6100 - val_categorical_accuracy: 0.1800\n",
      "\n",
      "Epoch 00002: saving model to model_init_2020-11-0913_54_06.183482/model-00002-1.63553-0.22474-1.61001-0.18000.h5\n",
      "Epoch 3/25\n",
      "27/27 [==============================] - 69s 3s/step - loss: 1.6130 - categorical_accuracy: 0.2128 - val_loss: 1.6098 - val_categorical_accuracy: 0.1800\n",
      "\n",
      "Epoch 00003: saving model to model_init_2020-11-0913_54_06.183482/model-00003-1.61324-0.21116-1.60978-0.18000.h5\n",
      "Epoch 4/25\n",
      "27/27 [==============================] - 69s 3s/step - loss: 1.6101 - categorical_accuracy: 0.1879 - val_loss: 1.6062 - val_categorical_accuracy: 0.2300\n",
      "\n",
      "Epoch 00004: saving model to model_init_2020-11-0913_54_06.183482/model-00004-1.61024-0.18854-1.60616-0.23000.h5\n",
      "Epoch 5/25\n",
      "27/27 [==============================] - 69s 3s/step - loss: 1.6105 - categorical_accuracy: 0.1921 - val_loss: 1.6074 - val_categorical_accuracy: 0.1800\n",
      "\n",
      "Epoch 00005: saving model to model_init_2020-11-0913_54_06.183482/model-00005-1.61034-0.19005-1.60737-0.18000.h5\n",
      "Epoch 6/25\n",
      "27/27 [==============================] - 68s 3s/step - loss: 1.6095 - categorical_accuracy: 0.1835 - val_loss: 1.6074 - val_categorical_accuracy: 0.2100\n",
      "\n",
      "Epoch 00006: saving model to model_init_2020-11-0913_54_06.183482/model-00006-1.60922-0.18401-1.60740-0.21000.h5\n",
      "Epoch 7/25\n",
      "27/27 [==============================] - 68s 3s/step - loss: 1.6094 - categorical_accuracy: 0.1733 - val_loss: 1.6074 - val_categorical_accuracy: 0.2300\n",
      "\n",
      "Epoch 00007: saving model to model_init_2020-11-0913_54_06.183482/model-00007-1.60945-0.17496-1.60741-0.23000.h5\n",
      "Epoch 8/25\n",
      "27/27 [==============================] - 70s 3s/step - loss: 1.6089 - categorical_accuracy: 0.1970 - val_loss: 1.6075 - val_categorical_accuracy: 0.2100\n",
      "\n",
      "Epoch 00008: saving model to model_init_2020-11-0913_54_06.183482/model-00008-1.60878-0.19910-1.60749-0.21000.h5\n",
      "Epoch 9/25\n",
      "27/27 [==============================] - 70s 3s/step - loss: 1.6090 - categorical_accuracy: 0.1954 - val_loss: 1.6074 - val_categorical_accuracy: 0.2300\n",
      "\n",
      "Epoch 00009: saving model to model_init_2020-11-0913_54_06.183482/model-00009-1.60886-0.19608-1.60737-0.23000.h5\n",
      "Epoch 10/25\n",
      "27/27 [==============================] - 61s 2s/step - loss: 1.6087 - categorical_accuracy: 0.1911 - val_loss: 1.6075 - val_categorical_accuracy: 0.2100\n",
      "\n",
      "Epoch 00010: saving model to model_init_2020-11-0913_54_06.183482/model-00010-1.60871-0.19306-1.60745-0.21000.h5\n",
      "Epoch 11/25\n",
      "27/27 [==============================] - 69s 3s/step - loss: 1.6087 - categorical_accuracy: 0.1996 - val_loss: 1.6075 - val_categorical_accuracy: 0.2300\n",
      "\n",
      "Epoch 00011: saving model to model_init_2020-11-0913_54_06.183482/model-00011-1.60856-0.19910-1.60751-0.23000.h5\n",
      "Epoch 12/25\n",
      "27/27 [==============================] - 69s 3s/step - loss: 1.6090 - categorical_accuracy: 0.2099 - val_loss: 1.6075 - val_categorical_accuracy: 0.2300\n",
      "\n",
      "Epoch 00012: saving model to model_init_2020-11-0913_54_06.183482/model-00012-1.60892-0.20814-1.60748-0.23000.h5\n",
      "Epoch 13/25\n",
      "27/27 [==============================] - 70s 3s/step - loss: 1.6084 - categorical_accuracy: 0.1980 - val_loss: 1.6075 - val_categorical_accuracy: 0.2300\n",
      "\n",
      "Epoch 00013: saving model to model_init_2020-11-0913_54_06.183482/model-00013-1.60861-0.19608-1.60745-0.23000.h5\n",
      "Epoch 14/25\n",
      "27/27 [==============================] - 69s 3s/step - loss: 1.6088 - categorical_accuracy: 0.1792 - val_loss: 1.6073 - val_categorical_accuracy: 0.2300\n",
      "\n",
      "Epoch 00014: saving model to model_init_2020-11-0913_54_06.183482/model-00014-1.60889-0.18100-1.60735-0.23000.h5\n",
      "Epoch 15/25\n",
      "27/27 [==============================] - 70s 3s/step - loss: 1.6085 - categorical_accuracy: 0.2110 - val_loss: 1.6074 - val_categorical_accuracy: 0.2300\n",
      "\n",
      "Epoch 00015: saving model to model_init_2020-11-0913_54_06.183482/model-00015-1.60869-0.20664-1.60741-0.23000.h5\n",
      "Epoch 16/25\n",
      "27/27 [==============================] - 69s 3s/step - loss: 1.6086 - categorical_accuracy: 0.2041 - val_loss: 1.6071 - val_categorical_accuracy: 0.2300\n",
      "\n",
      "Epoch 00016: saving model to model_init_2020-11-0913_54_06.183482/model-00016-1.60874-0.20362-1.60714-0.23000.h5\n",
      "Epoch 17/25\n",
      "27/27 [==============================] - 66s 2s/step - loss: 1.6088 - categorical_accuracy: 0.1926 - val_loss: 1.6073 - val_categorical_accuracy: 0.2300\n",
      "\n",
      "Epoch 00017: saving model to model_init_2020-11-0913_54_06.183482/model-00017-1.60882-0.19457-1.60729-0.23000.h5\n",
      "Epoch 18/25\n",
      "27/27 [==============================] - 66s 2s/step - loss: 1.6087 - categorical_accuracy: 0.1924 - val_loss: 1.6072 - val_categorical_accuracy: 0.2300\n",
      "\n",
      "Epoch 00018: saving model to model_init_2020-11-0913_54_06.183482/model-00018-1.60874-0.19306-1.60718-0.23000.h5\n",
      "Epoch 19/25\n",
      "27/27 [==============================] - 70s 3s/step - loss: 1.6088 - categorical_accuracy: 0.2099 - val_loss: 1.6072 - val_categorical_accuracy: 0.2300\n",
      "\n",
      "Epoch 00019: saving model to model_init_2020-11-0913_54_06.183482/model-00019-1.60870-0.20814-1.60722-0.23000.h5\n",
      "Epoch 20/25\n",
      "27/27 [==============================] - 71s 3s/step - loss: 1.6086 - categorical_accuracy: 0.2099 - val_loss: 1.6071 - val_categorical_accuracy: 0.2300\n",
      "\n",
      "Epoch 00020: saving model to model_init_2020-11-0913_54_06.183482/model-00020-1.60855-0.20814-1.60711-0.23000.h5\n",
      "Epoch 21/25\n",
      "27/27 [==============================] - 71s 3s/step - loss: 1.6088 - categorical_accuracy: 0.2039 - val_loss: 1.6071 - val_categorical_accuracy: 0.2300\n",
      "\n",
      "Epoch 00021: saving model to model_init_2020-11-0913_54_06.183482/model-00021-1.60882-0.20211-1.60715-0.23000.h5\n",
      "Epoch 22/25\n",
      "27/27 [==============================] - 70s 3s/step - loss: 1.6089 - categorical_accuracy: 0.1792 - val_loss: 1.6071 - val_categorical_accuracy: 0.2300\n",
      "\n",
      "Epoch 00022: saving model to model_init_2020-11-0913_54_06.183482/model-00022-1.60886-0.18100-1.60711-0.23000.h5\n",
      "Epoch 23/25\n",
      "27/27 [==============================] - 71s 3s/step - loss: 1.6086 - categorical_accuracy: 0.2069 - val_loss: 1.6071 - val_categorical_accuracy: 0.2300\n",
      "\n",
      "Epoch 00023: saving model to model_init_2020-11-0913_54_06.183482/model-00023-1.60865-0.20513-1.60710-0.23000.h5\n",
      "Epoch 24/25\n",
      "27/27 [==============================] - 68s 3s/step - loss: 1.6089 - categorical_accuracy: 0.1893 - val_loss: 1.6072 - val_categorical_accuracy: 0.2300\n",
      "\n",
      "Epoch 00024: saving model to model_init_2020-11-0913_54_06.183482/model-00024-1.60880-0.18854-1.60721-0.23000.h5\n",
      "Epoch 25/25\n",
      "27/27 [==============================] - 71s 3s/step - loss: 1.6088 - categorical_accuracy: 0.2028 - val_loss: 1.6072 - val_categorical_accuracy: 0.2300\n",
      "\n",
      "Epoch 00025: saving model to model_init_2020-11-0913_54_06.183482/model-00025-1.60867-0.20362-1.60718-0.23000.h5\n"
     ]
    }
   ],
   "source": [
    "train_model(model2D, 25, 30, 120, 120, 25)"
   ]
  },
  {
   "cell_type": "markdown",
   "metadata": {},
   "source": [
    "### Model 2 : Convolutional 3D Model without dropout"
   ]
  },
  {
   "cell_type": "code",
   "execution_count": 19,
   "metadata": {},
   "outputs": [],
   "source": [
    "class Conv3DModel:\n",
    "    def define_model(self, num_image_per_video, image_width, image_height):\n",
    "        model=Sequential()\n",
    "        model.add(Conv3D(64, (3,3,3), strides=(1,1,1), padding='same', \n",
    "                           input_shape=(num_image_per_video, image_width, image_height, 3)))\n",
    "        model.add(BatchNormalization())\n",
    "        model.add(Activation('relu'))\n",
    "        model.add(MaxPooling3D(pool_size=(2,2,1), strides=(2,2,1)))\n",
    "\n",
    "        model.add(Conv3D(128, (3,3,3), strides=(1,1,1), padding='same'))\n",
    "        model.add(BatchNormalization())\n",
    "        model.add(Activation('relu'))\n",
    "        model.add(MaxPooling3D(pool_size=(2,2,2), strides=(2,2,2)))\n",
    "\n",
    "        model.add(Conv3D(256, (3,3,3), strides=(1,1,1), padding='same'))\n",
    "        model.add(BatchNormalization())\n",
    "        model.add(Activation('relu'))\n",
    "        model.add(MaxPooling3D(pool_size=(2,2,2), strides=(2,2,2)))\n",
    "\n",
    "        model.add(Conv3D(256, (3,3,3), strides=(1,1,1), padding='same'))\n",
    "        model.add(BatchNormalization())\n",
    "        model.add(Activation('relu'))\n",
    "        model.add(MaxPooling3D(pool_size=(2,2,2), strides=(2,2,2)))\n",
    "\n",
    "        model.add(Flatten())\n",
    "        model.add(Dense(512, activation='relu'))\n",
    "        model.add(Dense(5, activation='softmax'))\n",
    "        \n",
    "        optimiser = optimizers.SGD(lr=0.001, decay=1e-6, momentum=0.7, nesterov=True) #write your optimizer\n",
    "        model.compile(optimizer=optimiser, loss='categorical_crossentropy', metrics=['categorical_accuracy'])\n",
    "        return model"
   ]
  },
  {
   "cell_type": "markdown",
   "metadata": {},
   "source": [
    "### Experiment Run 4: Image Res (84 X 84), Epochs = 25, Batch size = 20, Number of Images per video = 20"
   ]
  },
  {
   "cell_type": "markdown",
   "metadata": {},
   "source": [
    "Now that you have written the model, the next step is to `compile` the model. When you print the `summary` of the model, you'll see the total number of parameters you have to train."
   ]
  },
  {
   "cell_type": "code",
   "execution_count": 24,
   "metadata": {},
   "outputs": [
    {
     "name": "stdout",
     "output_type": "stream",
     "text": [
      "_________________________________________________________________\n",
      "Layer (type)                 Output Shape              Param #   \n",
      "=================================================================\n",
      "conv3d_5 (Conv3D)            (None, 20, 84, 84, 64)    5248      \n",
      "_________________________________________________________________\n",
      "batch_normalization_23 (Batc (None, 20, 84, 84, 64)    256       \n",
      "_________________________________________________________________\n",
      "activation_5 (Activation)    (None, 20, 84, 84, 64)    0         \n",
      "_________________________________________________________________\n",
      "max_pooling3d_5 (MaxPooling3 (None, 10, 42, 84, 64)    0         \n",
      "_________________________________________________________________\n",
      "conv3d_6 (Conv3D)            (None, 10, 42, 84, 128)   221312    \n",
      "_________________________________________________________________\n",
      "batch_normalization_24 (Batc (None, 10, 42, 84, 128)   512       \n",
      "_________________________________________________________________\n",
      "activation_6 (Activation)    (None, 10, 42, 84, 128)   0         \n",
      "_________________________________________________________________\n",
      "max_pooling3d_6 (MaxPooling3 (None, 5, 21, 42, 128)    0         \n",
      "_________________________________________________________________\n",
      "conv3d_7 (Conv3D)            (None, 5, 21, 42, 256)    884992    \n",
      "_________________________________________________________________\n",
      "batch_normalization_25 (Batc (None, 5, 21, 42, 256)    1024      \n",
      "_________________________________________________________________\n",
      "activation_7 (Activation)    (None, 5, 21, 42, 256)    0         \n",
      "_________________________________________________________________\n",
      "max_pooling3d_7 (MaxPooling3 (None, 2, 10, 21, 256)    0         \n",
      "_________________________________________________________________\n",
      "conv3d_8 (Conv3D)            (None, 2, 10, 21, 256)    1769728   \n",
      "_________________________________________________________________\n",
      "batch_normalization_26 (Batc (None, 2, 10, 21, 256)    1024      \n",
      "_________________________________________________________________\n",
      "activation_8 (Activation)    (None, 2, 10, 21, 256)    0         \n",
      "_________________________________________________________________\n",
      "max_pooling3d_8 (MaxPooling3 (None, 1, 5, 10, 256)     0         \n",
      "_________________________________________________________________\n",
      "flatten_8 (Flatten)          (None, 12800)             0         \n",
      "_________________________________________________________________\n",
      "dense_21 (Dense)             (None, 512)               6554112   \n",
      "_________________________________________________________________\n",
      "dense_22 (Dense)             (None, 5)                 2565      \n",
      "=================================================================\n",
      "Total params: 9,440,773\n",
      "Trainable params: 9,439,365\n",
      "Non-trainable params: 1,408\n",
      "_________________________________________________________________\n",
      "None\n"
     ]
    }
   ],
   "source": [
    "model3D = Conv3DModel()\n",
    "model3D = model3D.define_model(20,84,84)\n",
    "print(model3D.summary())"
   ]
  },
  {
   "cell_type": "code",
   "execution_count": 25,
   "metadata": {
    "scrolled": false
   },
   "outputs": [
    {
     "name": "stdout",
     "output_type": "stream",
     "text": [
      "Source path =  ./Project_data/val ; batch size = 20\n",
      "Source path =  ./Project_data/train ; batch size = 20\n",
      "Epoch 1/25\n"
     ]
    },
    {
     "name": "stderr",
     "output_type": "stream",
     "text": [
      "/mnt/disks/user/anaconda3/lib/python3.6/site-packages/ipykernel_launcher.py:13: DeprecationWarning: `imread` is deprecated!\n",
      "`imread` is deprecated in SciPy 1.0.0, and will be removed in 1.2.0.\n",
      "Use ``imageio.imread`` instead.\n",
      "  del sys.path[0]\n",
      "/mnt/disks/user/anaconda3/lib/python3.6/site-packages/skimage/transform/_warps.py:105: UserWarning: The default mode, 'constant', will be changed to 'reflect' in skimage 0.15.\n",
      "  warn(\"The default mode, 'constant', will be changed to 'reflect' in \"\n",
      "/mnt/disks/user/anaconda3/lib/python3.6/site-packages/skimage/transform/_warps.py:110: UserWarning: Anti-aliasing will be enabled by default in skimage 0.15 to avoid aliasing artifacts when down-sampling images.\n",
      "  warn(\"Anti-aliasing will be enabled by default in skimage 0.15 to \"\n"
     ]
    },
    {
     "name": "stdout",
     "output_type": "stream",
     "text": [
      "34/34 [==============================] - 74s 2s/step - loss: 2.3677 - categorical_accuracy: 0.3687 - val_loss: 1.8447 - val_categorical_accuracy: 0.4200\n",
      "\n",
      "Epoch 00001: saving model to model_init_2020-11-0913_54_06.183482/model-00001-2.40286-0.36953-1.84472-0.42000.h5\n",
      "Epoch 2/25\n",
      "34/34 [==============================] - 59s 2s/step - loss: 0.8449 - categorical_accuracy: 0.6645 - val_loss: 1.6994 - val_categorical_accuracy: 0.5000\n",
      "\n",
      "Epoch 00002: saving model to model_init_2020-11-0913_54_06.183482/model-00002-0.84452-0.67270-1.69940-0.50000.h5\n",
      "Epoch 3/25\n",
      "34/34 [==============================] - 58s 2s/step - loss: 0.6487 - categorical_accuracy: 0.7564 - val_loss: 1.1411 - val_categorical_accuracy: 0.5700\n",
      "\n",
      "Epoch 00003: saving model to model_init_2020-11-0913_54_06.183482/model-00003-0.65084-0.75867-1.14113-0.57000.h5\n",
      "Epoch 4/25\n",
      "34/34 [==============================] - 60s 2s/step - loss: 0.3966 - categorical_accuracy: 0.8734 - val_loss: 1.3520 - val_categorical_accuracy: 0.4800\n",
      "\n",
      "Epoch 00004: saving model to model_init_2020-11-0913_54_06.183482/model-00004-0.40157-0.87029-1.35196-0.48000.h5\n",
      "Epoch 5/25\n",
      "34/34 [==============================] - 60s 2s/step - loss: 0.2406 - categorical_accuracy: 0.9249 - val_loss: 1.9294 - val_categorical_accuracy: 0.4200\n",
      "\n",
      "Epoch 00005: saving model to model_init_2020-11-0913_54_06.183482/model-00005-0.22912-0.93967-1.92945-0.42000.h5\n",
      "Epoch 6/25\n",
      "34/34 [==============================] - 60s 2s/step - loss: 0.2301 - categorical_accuracy: 0.9441 - val_loss: 0.8113 - val_categorical_accuracy: 0.6900\n",
      "\n",
      "Epoch 00006: saving model to model_init_2020-11-0913_54_06.183482/model-00006-0.23479-0.94268-0.81133-0.69000.h5\n",
      "Epoch 7/25\n",
      "34/34 [==============================] - 60s 2s/step - loss: 0.0992 - categorical_accuracy: 0.9926 - val_loss: 0.8929 - val_categorical_accuracy: 0.6600\n",
      "\n",
      "Epoch 00007: saving model to model_init_2020-11-0913_54_06.183482/model-00007-0.09793-0.99246-0.89293-0.66000.h5\n",
      "Epoch 8/25\n",
      "34/34 [==============================] - 62s 2s/step - loss: 0.0702 - categorical_accuracy: 0.9956 - val_loss: 1.4294 - val_categorical_accuracy: 0.5400\n",
      "\n",
      "Epoch 00008: saving model to model_init_2020-11-0913_54_06.183482/model-00008-0.06646-0.99548-1.42938-0.54000.h5\n",
      "Epoch 9/25\n",
      "34/34 [==============================] - 61s 2s/step - loss: 0.0646 - categorical_accuracy: 0.9985 - val_loss: 0.8874 - val_categorical_accuracy: 0.6400\n",
      "\n",
      "Epoch 00009: saving model to model_init_2020-11-0913_54_06.183482/model-00009-0.06482-0.99849-0.88737-0.64000.h5\n",
      "Epoch 10/25\n",
      "34/34 [==============================] - 60s 2s/step - loss: 0.0354 - categorical_accuracy: 1.0000 - val_loss: 0.7786 - val_categorical_accuracy: 0.7000\n",
      "\n",
      "Epoch 00010: saving model to model_init_2020-11-0913_54_06.183482/model-00010-0.03485-1.00000-0.77863-0.70000.h5\n",
      "Epoch 11/25\n",
      "34/34 [==============================] - 62s 2s/step - loss: 0.0322 - categorical_accuracy: 1.0000 - val_loss: 0.7068 - val_categorical_accuracy: 0.7300\n",
      "\n",
      "Epoch 00011: saving model to model_init_2020-11-0913_54_06.183482/model-00011-0.03097-1.00000-0.70680-0.73000.h5\n",
      "Epoch 12/25\n",
      "34/34 [==============================] - 62s 2s/step - loss: 0.0315 - categorical_accuracy: 1.0000 - val_loss: 0.6857 - val_categorical_accuracy: 0.7100\n",
      "\n",
      "Epoch 00012: saving model to model_init_2020-11-0913_54_06.183482/model-00012-0.03125-1.00000-0.68568-0.71000.h5\n",
      "Epoch 13/25\n",
      "34/34 [==============================] - 61s 2s/step - loss: 0.0296 - categorical_accuracy: 1.0000 - val_loss: 0.6763 - val_categorical_accuracy: 0.7300\n",
      "\n",
      "Epoch 00013: saving model to model_init_2020-11-0913_54_06.183482/model-00013-0.03023-1.00000-0.67631-0.73000.h5\n",
      "Epoch 14/25\n",
      "34/34 [==============================] - 60s 2s/step - loss: 0.0463 - categorical_accuracy: 0.9904 - val_loss: 0.6683 - val_categorical_accuracy: 0.7300\n",
      "\n",
      "Epoch 00014: saving model to model_init_2020-11-0913_54_06.183482/model-00014-0.03144-0.99849-0.66829-0.73000.h5\n",
      "Epoch 15/25\n",
      "34/34 [==============================] - 62s 2s/step - loss: 0.0331 - categorical_accuracy: 1.0000 - val_loss: 0.6664 - val_categorical_accuracy: 0.7400\n",
      "\n",
      "Epoch 00015: saving model to model_init_2020-11-0913_54_06.183482/model-00015-0.03169-1.00000-0.66636-0.74000.h5\n",
      "Epoch 16/25\n",
      "34/34 [==============================] - 62s 2s/step - loss: 0.0282 - categorical_accuracy: 1.0000 - val_loss: 0.6688 - val_categorical_accuracy: 0.7400\n",
      "\n",
      "Epoch 00016: saving model to model_init_2020-11-0913_54_06.183482/model-00016-0.02735-1.00000-0.66875-0.74000.h5\n",
      "Epoch 17/25\n",
      "34/34 [==============================] - 61s 2s/step - loss: 0.0277 - categorical_accuracy: 1.0000 - val_loss: 0.6678 - val_categorical_accuracy: 0.7500\n",
      "\n",
      "Epoch 00017: saving model to model_init_2020-11-0913_54_06.183482/model-00017-0.02628-1.00000-0.66784-0.75000.h5\n",
      "Epoch 18/25\n",
      "34/34 [==============================] - 61s 2s/step - loss: 0.0265 - categorical_accuracy: 1.0000 - val_loss: 0.6684 - val_categorical_accuracy: 0.7300\n",
      "\n",
      "Epoch 00018: saving model to model_init_2020-11-0913_54_06.183482/model-00018-0.02655-1.00000-0.66840-0.73000.h5\n",
      "Epoch 19/25\n",
      "34/34 [==============================] - 61s 2s/step - loss: 0.0253 - categorical_accuracy: 1.0000 - val_loss: 0.6684 - val_categorical_accuracy: 0.7200\n",
      "\n",
      "Epoch 00019: saving model to model_init_2020-11-0913_54_06.183482/model-00019-0.02513-1.00000-0.66835-0.72000.h5\n",
      "Epoch 20/25\n",
      "34/34 [==============================] - 61s 2s/step - loss: 0.0253 - categorical_accuracy: 1.0000 - val_loss: 0.6643 - val_categorical_accuracy: 0.7300\n",
      "\n",
      "Epoch 00020: saving model to model_init_2020-11-0913_54_06.183482/model-00020-0.02559-1.00000-0.66432-0.73000.h5\n",
      "Epoch 21/25\n",
      "34/34 [==============================] - 61s 2s/step - loss: 0.0234 - categorical_accuracy: 1.0000 - val_loss: 0.6657 - val_categorical_accuracy: 0.7400\n",
      "\n",
      "Epoch 00021: saving model to model_init_2020-11-0913_54_06.183482/model-00021-0.02330-1.00000-0.66566-0.74000.h5\n",
      "Epoch 22/25\n",
      "34/34 [==============================] - 61s 2s/step - loss: 0.0237 - categorical_accuracy: 1.0000 - val_loss: 0.6639 - val_categorical_accuracy: 0.7400\n",
      "\n",
      "Epoch 00022: saving model to model_init_2020-11-0913_54_06.183482/model-00022-0.02396-1.00000-0.66390-0.74000.h5\n",
      "Epoch 23/25\n",
      "34/34 [==============================] - 62s 2s/step - loss: 0.0247 - categorical_accuracy: 1.0000 - val_loss: 0.6661 - val_categorical_accuracy: 0.7500\n",
      "\n",
      "Epoch 00023: saving model to model_init_2020-11-0913_54_06.183482/model-00023-0.02470-1.00000-0.66612-0.75000.h5\n",
      "Epoch 24/25\n",
      "34/34 [==============================] - 60s 2s/step - loss: 0.0227 - categorical_accuracy: 1.0000 - val_loss: 0.6644 - val_categorical_accuracy: 0.7600\n",
      "\n",
      "Epoch 00024: saving model to model_init_2020-11-0913_54_06.183482/model-00024-0.02315-1.00000-0.66436-0.76000.h5\n",
      "Epoch 25/25\n",
      "34/34 [==============================] - 61s 2s/step - loss: 0.0240 - categorical_accuracy: 1.0000 - val_loss: 0.6655 - val_categorical_accuracy: 0.7600\n",
      "\n",
      "Epoch 00025: saving model to model_init_2020-11-0913_54_06.183482/model-00025-0.02313-1.00000-0.66554-0.76000.h5\n"
     ]
    }
   ],
   "source": [
    "train_model(model3D, 25, 20, 84, 84, 20)"
   ]
  },
  {
   "cell_type": "markdown",
   "metadata": {},
   "source": [
    "### Experiment Run 5: Image Res (100 X 100), Epochs = 25, Batch size = 20, Number of Images per video = 20"
   ]
  },
  {
   "cell_type": "markdown",
   "metadata": {},
   "source": [
    "Now that you have written the model, the next step is to `compile` the model. When you print the `summary` of the model, you'll see the total number of parameters you have to train."
   ]
  },
  {
   "cell_type": "code",
   "execution_count": 28,
   "metadata": {},
   "outputs": [
    {
     "name": "stdout",
     "output_type": "stream",
     "text": [
      "_________________________________________________________________\n",
      "Layer (type)                 Output Shape              Param #   \n",
      "=================================================================\n",
      "conv3d_13 (Conv3D)           (None, 20, 100, 100, 64)  5248      \n",
      "_________________________________________________________________\n",
      "batch_normalization_31 (Batc (None, 20, 100, 100, 64)  256       \n",
      "_________________________________________________________________\n",
      "activation_13 (Activation)   (None, 20, 100, 100, 64)  0         \n",
      "_________________________________________________________________\n",
      "max_pooling3d_13 (MaxPooling (None, 10, 50, 100, 64)   0         \n",
      "_________________________________________________________________\n",
      "conv3d_14 (Conv3D)           (None, 10, 50, 100, 128)  221312    \n",
      "_________________________________________________________________\n",
      "batch_normalization_32 (Batc (None, 10, 50, 100, 128)  512       \n",
      "_________________________________________________________________\n",
      "activation_14 (Activation)   (None, 10, 50, 100, 128)  0         \n",
      "_________________________________________________________________\n",
      "max_pooling3d_14 (MaxPooling (None, 5, 25, 50, 128)    0         \n",
      "_________________________________________________________________\n",
      "conv3d_15 (Conv3D)           (None, 5, 25, 50, 256)    884992    \n",
      "_________________________________________________________________\n",
      "batch_normalization_33 (Batc (None, 5, 25, 50, 256)    1024      \n",
      "_________________________________________________________________\n",
      "activation_15 (Activation)   (None, 5, 25, 50, 256)    0         \n",
      "_________________________________________________________________\n",
      "max_pooling3d_15 (MaxPooling (None, 2, 12, 25, 256)    0         \n",
      "_________________________________________________________________\n",
      "conv3d_16 (Conv3D)           (None, 2, 12, 25, 256)    1769728   \n",
      "_________________________________________________________________\n",
      "batch_normalization_34 (Batc (None, 2, 12, 25, 256)    1024      \n",
      "_________________________________________________________________\n",
      "activation_16 (Activation)   (None, 2, 12, 25, 256)    0         \n",
      "_________________________________________________________________\n",
      "max_pooling3d_16 (MaxPooling (None, 1, 6, 12, 256)     0         \n",
      "_________________________________________________________________\n",
      "flatten_10 (Flatten)         (None, 18432)             0         \n",
      "_________________________________________________________________\n",
      "dense_25 (Dense)             (None, 512)               9437696   \n",
      "_________________________________________________________________\n",
      "dense_26 (Dense)             (None, 5)                 2565      \n",
      "=================================================================\n",
      "Total params: 12,324,357\n",
      "Trainable params: 12,322,949\n",
      "Non-trainable params: 1,408\n",
      "_________________________________________________________________\n",
      "None\n"
     ]
    }
   ],
   "source": [
    "model3D = Conv3DModel()\n",
    "model3D = model3D.define_model(20,100,100)\n",
    "print(model3D.summary())"
   ]
  },
  {
   "cell_type": "code",
   "execution_count": 29,
   "metadata": {},
   "outputs": [
    {
     "name": "stdout",
     "output_type": "stream",
     "text": [
      "Source path =  ./Project_data/val ; batch size = 20\n",
      "Source path =  ./Project_data/train ; batch size = 20\n",
      "Epoch 1/25\n"
     ]
    },
    {
     "name": "stderr",
     "output_type": "stream",
     "text": [
      "/mnt/disks/user/anaconda3/lib/python3.6/site-packages/ipykernel_launcher.py:13: DeprecationWarning: `imread` is deprecated!\n",
      "`imread` is deprecated in SciPy 1.0.0, and will be removed in 1.2.0.\n",
      "Use ``imageio.imread`` instead.\n",
      "  del sys.path[0]\n",
      "/mnt/disks/user/anaconda3/lib/python3.6/site-packages/skimage/transform/_warps.py:105: UserWarning: The default mode, 'constant', will be changed to 'reflect' in skimage 0.15.\n",
      "  warn(\"The default mode, 'constant', will be changed to 'reflect' in \"\n",
      "/mnt/disks/user/anaconda3/lib/python3.6/site-packages/skimage/transform/_warps.py:110: UserWarning: Anti-aliasing will be enabled by default in skimage 0.15 to avoid aliasing artifacts when down-sampling images.\n",
      "  warn(\"Anti-aliasing will be enabled by default in skimage 0.15 to \"\n"
     ]
    },
    {
     "name": "stdout",
     "output_type": "stream",
     "text": [
      "34/34 [==============================] - 103s 3s/step - loss: 4.0670 - categorical_accuracy: 0.3304 - val_loss: 1.6806 - val_categorical_accuracy: 0.3400\n",
      "\n",
      "Epoch 00001: saving model to model_init_2020-11-0913_54_06.183482/model-00001-4.13992-0.33032-1.68064-0.34000.h5\n",
      "Epoch 2/25\n",
      "34/34 [==============================] - 86s 3s/step - loss: 0.9389 - categorical_accuracy: 0.6019 - val_loss: 1.2889 - val_categorical_accuracy: 0.5500\n",
      "\n",
      "Epoch 00002: saving model to model_init_2020-11-0913_54_06.183482/model-00002-0.95105-0.60030-1.28893-0.55000.h5\n",
      "Epoch 3/25\n",
      "34/34 [==============================] - 86s 3s/step - loss: 0.6359 - categorical_accuracy: 0.7616 - val_loss: 1.0804 - val_categorical_accuracy: 0.5700\n",
      "\n",
      "Epoch 00003: saving model to model_init_2020-11-0913_54_06.183482/model-00003-0.64763-0.75566-1.08036-0.57000.h5\n",
      "Epoch 4/25\n",
      "34/34 [==============================] - 86s 3s/step - loss: 0.4530 - categorical_accuracy: 0.8315 - val_loss: 1.4998 - val_categorical_accuracy: 0.3900\n",
      "\n",
      "Epoch 00004: saving model to model_init_2020-11-0913_54_06.183482/model-00004-0.44290-0.83560-1.49984-0.39000.h5\n",
      "Epoch 5/25\n",
      "34/34 [==============================] - 86s 3s/step - loss: 0.3108 - categorical_accuracy: 0.9021 - val_loss: 1.3189 - val_categorical_accuracy: 0.5200\n",
      "\n",
      "Epoch 00005: saving model to model_init_2020-11-0913_54_06.183482/model-00005-0.30961-0.90799-1.31886-0.52000.h5\n",
      "Epoch 6/25\n",
      "34/34 [==============================] - 86s 3s/step - loss: 0.2031 - categorical_accuracy: 0.9559 - val_loss: 1.2519 - val_categorical_accuracy: 0.5500\n",
      "\n",
      "Epoch 00006: saving model to model_init_2020-11-0913_54_06.183482/model-00006-0.20620-0.95475-1.25186-0.55000.h5\n",
      "Epoch 7/25\n",
      "34/34 [==============================] - 86s 3s/step - loss: 0.1292 - categorical_accuracy: 0.9779 - val_loss: 0.8071 - val_categorical_accuracy: 0.6700\n",
      "\n",
      "Epoch 00007: saving model to model_init_2020-11-0913_54_06.183482/model-00007-0.12879-0.97738-0.80707-0.67000.h5\n",
      "Epoch 8/25\n",
      "34/34 [==============================] - 86s 3s/step - loss: 0.0943 - categorical_accuracy: 0.9971 - val_loss: 0.7965 - val_categorical_accuracy: 0.6500\n",
      "\n",
      "Epoch 00008: saving model to model_init_2020-11-0913_54_06.183482/model-00008-0.08959-0.99698-0.79649-0.65000.h5\n",
      "Epoch 9/25\n",
      "34/34 [==============================] - 86s 3s/step - loss: 0.0796 - categorical_accuracy: 1.0000 - val_loss: 0.7449 - val_categorical_accuracy: 0.6900\n",
      "\n",
      "Epoch 00009: saving model to model_init_2020-11-0913_54_06.183482/model-00009-0.08074-1.00000-0.74486-0.69000.h5\n",
      "Epoch 10/25\n",
      "34/34 [==============================] - 86s 3s/step - loss: 0.0749 - categorical_accuracy: 0.9985 - val_loss: 0.7251 - val_categorical_accuracy: 0.7100\n",
      "\n",
      "Epoch 00010: saving model to model_init_2020-11-0913_54_06.183482/model-00010-0.07521-0.99849-0.72511-0.71000.h5\n",
      "Epoch 11/25\n",
      "11/34 [========>.....................] - ETA: 57s - loss: 0.0687 - categorical_accuracy: 1.0000"
     ]
    },
    {
     "ename": "KeyboardInterrupt",
     "evalue": "",
     "output_type": "error",
     "traceback": [
      "\u001b[0;31m---------------------------------------------------------------------------\u001b[0m",
      "\u001b[0;31mKeyboardInterrupt\u001b[0m                         Traceback (most recent call last)",
      "\u001b[0;32m<ipython-input-29-fa80bb6f3f79>\u001b[0m in \u001b[0;36m<module>\u001b[0;34m()\u001b[0m\n\u001b[0;32m----> 1\u001b[0;31m \u001b[0mtrain_model\u001b[0m\u001b[0;34m(\u001b[0m\u001b[0mmodel3D\u001b[0m\u001b[0;34m,\u001b[0m \u001b[0;36m25\u001b[0m\u001b[0;34m,\u001b[0m \u001b[0;36m20\u001b[0m\u001b[0;34m,\u001b[0m \u001b[0;36m100\u001b[0m\u001b[0;34m,\u001b[0m \u001b[0;36m100\u001b[0m\u001b[0;34m,\u001b[0m \u001b[0;36m20\u001b[0m\u001b[0;34m)\u001b[0m\u001b[0;34m\u001b[0m\u001b[0;34m\u001b[0m\u001b[0m\n\u001b[0m",
      "\u001b[0;32m<ipython-input-6-5e4b8af25b36>\u001b[0m in \u001b[0;36mtrain_model\u001b[0;34m(model, num_epochs, num_image_per_video, image_width, image_height, batch_size)\u001b[0m\n\u001b[1;32m     31\u001b[0m     model.fit_generator(train_generator, steps_per_epoch=steps_per_epoch, epochs=num_epochs, verbose=1, \n\u001b[1;32m     32\u001b[0m                     \u001b[0mcallbacks\u001b[0m\u001b[0;34m=\u001b[0m\u001b[0mcallbacks_list\u001b[0m\u001b[0;34m,\u001b[0m \u001b[0mvalidation_data\u001b[0m\u001b[0;34m=\u001b[0m\u001b[0mval_generator\u001b[0m\u001b[0;34m,\u001b[0m\u001b[0;34m\u001b[0m\u001b[0;34m\u001b[0m\u001b[0m\n\u001b[0;32m---> 33\u001b[0;31m                     validation_steps=validation_steps, class_weight=None, workers=1, initial_epoch=0)\n\u001b[0m",
      "\u001b[0;32m/mnt/disks/user/anaconda3/lib/python3.6/site-packages/keras/legacy/interfaces.py\u001b[0m in \u001b[0;36mwrapper\u001b[0;34m(*args, **kwargs)\u001b[0m\n\u001b[1;32m     89\u001b[0m                 warnings.warn('Update your `' + object_name +\n\u001b[1;32m     90\u001b[0m                               '` call to the Keras 2 API: ' + signature, stacklevel=2)\n\u001b[0;32m---> 91\u001b[0;31m             \u001b[0;32mreturn\u001b[0m \u001b[0mfunc\u001b[0m\u001b[0;34m(\u001b[0m\u001b[0;34m*\u001b[0m\u001b[0margs\u001b[0m\u001b[0;34m,\u001b[0m \u001b[0;34m**\u001b[0m\u001b[0mkwargs\u001b[0m\u001b[0;34m)\u001b[0m\u001b[0;34m\u001b[0m\u001b[0;34m\u001b[0m\u001b[0m\n\u001b[0m\u001b[1;32m     92\u001b[0m         \u001b[0mwrapper\u001b[0m\u001b[0;34m.\u001b[0m\u001b[0m_original_function\u001b[0m \u001b[0;34m=\u001b[0m \u001b[0mfunc\u001b[0m\u001b[0;34m\u001b[0m\u001b[0;34m\u001b[0m\u001b[0m\n\u001b[1;32m     93\u001b[0m         \u001b[0;32mreturn\u001b[0m \u001b[0mwrapper\u001b[0m\u001b[0;34m\u001b[0m\u001b[0;34m\u001b[0m\u001b[0m\n",
      "\u001b[0;32m/mnt/disks/user/anaconda3/lib/python3.6/site-packages/keras/engine/training.py\u001b[0m in \u001b[0;36mfit_generator\u001b[0;34m(self, generator, steps_per_epoch, epochs, verbose, callbacks, validation_data, validation_steps, class_weight, max_queue_size, workers, use_multiprocessing, shuffle, initial_epoch)\u001b[0m\n\u001b[1;32m   1413\u001b[0m             \u001b[0muse_multiprocessing\u001b[0m\u001b[0;34m=\u001b[0m\u001b[0muse_multiprocessing\u001b[0m\u001b[0;34m,\u001b[0m\u001b[0;34m\u001b[0m\u001b[0;34m\u001b[0m\u001b[0m\n\u001b[1;32m   1414\u001b[0m             \u001b[0mshuffle\u001b[0m\u001b[0;34m=\u001b[0m\u001b[0mshuffle\u001b[0m\u001b[0;34m,\u001b[0m\u001b[0;34m\u001b[0m\u001b[0;34m\u001b[0m\u001b[0m\n\u001b[0;32m-> 1415\u001b[0;31m             initial_epoch=initial_epoch)\n\u001b[0m\u001b[1;32m   1416\u001b[0m \u001b[0;34m\u001b[0m\u001b[0m\n\u001b[1;32m   1417\u001b[0m     \u001b[0;34m@\u001b[0m\u001b[0minterfaces\u001b[0m\u001b[0;34m.\u001b[0m\u001b[0mlegacy_generator_methods_support\u001b[0m\u001b[0;34m\u001b[0m\u001b[0;34m\u001b[0m\u001b[0m\n",
      "\u001b[0;32m/mnt/disks/user/anaconda3/lib/python3.6/site-packages/keras/engine/training_generator.py\u001b[0m in \u001b[0;36mfit_generator\u001b[0;34m(model, generator, steps_per_epoch, epochs, verbose, callbacks, validation_data, validation_steps, class_weight, max_queue_size, workers, use_multiprocessing, shuffle, initial_epoch)\u001b[0m\n\u001b[1;32m    211\u001b[0m                 outs = model.train_on_batch(x, y,\n\u001b[1;32m    212\u001b[0m                                             \u001b[0msample_weight\u001b[0m\u001b[0;34m=\u001b[0m\u001b[0msample_weight\u001b[0m\u001b[0;34m,\u001b[0m\u001b[0;34m\u001b[0m\u001b[0;34m\u001b[0m\u001b[0m\n\u001b[0;32m--> 213\u001b[0;31m                                             class_weight=class_weight)\n\u001b[0m\u001b[1;32m    214\u001b[0m \u001b[0;34m\u001b[0m\u001b[0m\n\u001b[1;32m    215\u001b[0m                 \u001b[0mouts\u001b[0m \u001b[0;34m=\u001b[0m \u001b[0mto_list\u001b[0m\u001b[0;34m(\u001b[0m\u001b[0mouts\u001b[0m\u001b[0;34m)\u001b[0m\u001b[0;34m\u001b[0m\u001b[0;34m\u001b[0m\u001b[0m\n",
      "\u001b[0;32m/mnt/disks/user/anaconda3/lib/python3.6/site-packages/keras/engine/training.py\u001b[0m in \u001b[0;36mtrain_on_batch\u001b[0;34m(self, x, y, sample_weight, class_weight)\u001b[0m\n\u001b[1;32m   1213\u001b[0m             \u001b[0mins\u001b[0m \u001b[0;34m=\u001b[0m \u001b[0mx\u001b[0m \u001b[0;34m+\u001b[0m \u001b[0my\u001b[0m \u001b[0;34m+\u001b[0m \u001b[0msample_weights\u001b[0m\u001b[0;34m\u001b[0m\u001b[0;34m\u001b[0m\u001b[0m\n\u001b[1;32m   1214\u001b[0m         \u001b[0mself\u001b[0m\u001b[0;34m.\u001b[0m\u001b[0m_make_train_function\u001b[0m\u001b[0;34m(\u001b[0m\u001b[0;34m)\u001b[0m\u001b[0;34m\u001b[0m\u001b[0;34m\u001b[0m\u001b[0m\n\u001b[0;32m-> 1215\u001b[0;31m         \u001b[0moutputs\u001b[0m \u001b[0;34m=\u001b[0m \u001b[0mself\u001b[0m\u001b[0;34m.\u001b[0m\u001b[0mtrain_function\u001b[0m\u001b[0;34m(\u001b[0m\u001b[0mins\u001b[0m\u001b[0;34m)\u001b[0m\u001b[0;34m\u001b[0m\u001b[0;34m\u001b[0m\u001b[0m\n\u001b[0m\u001b[1;32m   1216\u001b[0m         \u001b[0;32mreturn\u001b[0m \u001b[0munpack_singleton\u001b[0m\u001b[0;34m(\u001b[0m\u001b[0moutputs\u001b[0m\u001b[0;34m)\u001b[0m\u001b[0;34m\u001b[0m\u001b[0;34m\u001b[0m\u001b[0m\n\u001b[1;32m   1217\u001b[0m \u001b[0;34m\u001b[0m\u001b[0m\n",
      "\u001b[0;32m/mnt/disks/user/anaconda3/lib/python3.6/site-packages/keras/backend/tensorflow_backend.py\u001b[0m in \u001b[0;36m__call__\u001b[0;34m(self, inputs)\u001b[0m\n\u001b[1;32m   2664\u001b[0m                 \u001b[0;32mreturn\u001b[0m \u001b[0mself\u001b[0m\u001b[0;34m.\u001b[0m\u001b[0m_legacy_call\u001b[0m\u001b[0;34m(\u001b[0m\u001b[0minputs\u001b[0m\u001b[0;34m)\u001b[0m\u001b[0;34m\u001b[0m\u001b[0;34m\u001b[0m\u001b[0m\n\u001b[1;32m   2665\u001b[0m \u001b[0;34m\u001b[0m\u001b[0m\n\u001b[0;32m-> 2666\u001b[0;31m             \u001b[0;32mreturn\u001b[0m \u001b[0mself\u001b[0m\u001b[0;34m.\u001b[0m\u001b[0m_call\u001b[0m\u001b[0;34m(\u001b[0m\u001b[0minputs\u001b[0m\u001b[0;34m)\u001b[0m\u001b[0;34m\u001b[0m\u001b[0;34m\u001b[0m\u001b[0m\n\u001b[0m\u001b[1;32m   2667\u001b[0m         \u001b[0;32melse\u001b[0m\u001b[0;34m:\u001b[0m\u001b[0;34m\u001b[0m\u001b[0;34m\u001b[0m\u001b[0m\n\u001b[1;32m   2668\u001b[0m             \u001b[0;32mif\u001b[0m \u001b[0mpy_any\u001b[0m\u001b[0;34m(\u001b[0m\u001b[0mis_tensor\u001b[0m\u001b[0;34m(\u001b[0m\u001b[0mx\u001b[0m\u001b[0;34m)\u001b[0m \u001b[0;32mfor\u001b[0m \u001b[0mx\u001b[0m \u001b[0;32min\u001b[0m \u001b[0minputs\u001b[0m\u001b[0;34m)\u001b[0m\u001b[0;34m:\u001b[0m\u001b[0;34m\u001b[0m\u001b[0;34m\u001b[0m\u001b[0m\n",
      "\u001b[0;32m/mnt/disks/user/anaconda3/lib/python3.6/site-packages/keras/backend/tensorflow_backend.py\u001b[0m in \u001b[0;36m_call\u001b[0;34m(self, inputs)\u001b[0m\n\u001b[1;32m   2634\u001b[0m                                 \u001b[0msymbol_vals\u001b[0m\u001b[0;34m,\u001b[0m\u001b[0;34m\u001b[0m\u001b[0;34m\u001b[0m\u001b[0m\n\u001b[1;32m   2635\u001b[0m                                 session)\n\u001b[0;32m-> 2636\u001b[0;31m         \u001b[0mfetched\u001b[0m \u001b[0;34m=\u001b[0m \u001b[0mself\u001b[0m\u001b[0;34m.\u001b[0m\u001b[0m_callable_fn\u001b[0m\u001b[0;34m(\u001b[0m\u001b[0;34m*\u001b[0m\u001b[0marray_vals\u001b[0m\u001b[0;34m)\u001b[0m\u001b[0;34m\u001b[0m\u001b[0;34m\u001b[0m\u001b[0m\n\u001b[0m\u001b[1;32m   2637\u001b[0m         \u001b[0;32mreturn\u001b[0m \u001b[0mfetched\u001b[0m\u001b[0;34m[\u001b[0m\u001b[0;34m:\u001b[0m\u001b[0mlen\u001b[0m\u001b[0;34m(\u001b[0m\u001b[0mself\u001b[0m\u001b[0;34m.\u001b[0m\u001b[0moutputs\u001b[0m\u001b[0;34m)\u001b[0m\u001b[0;34m]\u001b[0m\u001b[0;34m\u001b[0m\u001b[0;34m\u001b[0m\u001b[0m\n\u001b[1;32m   2638\u001b[0m \u001b[0;34m\u001b[0m\u001b[0m\n",
      "\u001b[0;32m/mnt/disks/user/anaconda3/lib/python3.6/site-packages/tensorflow/python/client/session.py\u001b[0m in \u001b[0;36m__call__\u001b[0;34m(self, *args, **kwargs)\u001b[0m\n\u001b[1;32m   1380\u001b[0m           ret = tf_session.TF_SessionRunCallable(\n\u001b[1;32m   1381\u001b[0m               \u001b[0mself\u001b[0m\u001b[0;34m.\u001b[0m\u001b[0m_session\u001b[0m\u001b[0;34m.\u001b[0m\u001b[0m_session\u001b[0m\u001b[0;34m,\u001b[0m \u001b[0mself\u001b[0m\u001b[0;34m.\u001b[0m\u001b[0m_handle\u001b[0m\u001b[0;34m,\u001b[0m \u001b[0margs\u001b[0m\u001b[0;34m,\u001b[0m \u001b[0mstatus\u001b[0m\u001b[0;34m,\u001b[0m\u001b[0;34m\u001b[0m\u001b[0;34m\u001b[0m\u001b[0m\n\u001b[0;32m-> 1382\u001b[0;31m               run_metadata_ptr)\n\u001b[0m\u001b[1;32m   1383\u001b[0m         \u001b[0;32mif\u001b[0m \u001b[0mrun_metadata\u001b[0m\u001b[0;34m:\u001b[0m\u001b[0;34m\u001b[0m\u001b[0;34m\u001b[0m\u001b[0m\n\u001b[1;32m   1384\u001b[0m           \u001b[0mproto_data\u001b[0m \u001b[0;34m=\u001b[0m \u001b[0mtf_session\u001b[0m\u001b[0;34m.\u001b[0m\u001b[0mTF_GetBuffer\u001b[0m\u001b[0;34m(\u001b[0m\u001b[0mrun_metadata_ptr\u001b[0m\u001b[0;34m)\u001b[0m\u001b[0;34m\u001b[0m\u001b[0;34m\u001b[0m\u001b[0m\n",
      "\u001b[0;31mKeyboardInterrupt\u001b[0m: "
     ]
    }
   ],
   "source": [
    "train_model(model3D, 25, 20, 100, 100, 20)"
   ]
  },
  {
   "cell_type": "markdown",
   "metadata": {},
   "source": [
    "### Model 3 : Convolutional 3D Model with dropout"
   ]
  },
  {
   "cell_type": "markdown",
   "metadata": {},
   "source": [
    "### Experiment Run 6: Image Res (84 X 84), Epochs = 30, Batch size = 20, Number of images per video = 20"
   ]
  },
  {
   "cell_type": "markdown",
   "metadata": {},
   "source": [
    "Now that you have written the model, the next step is to `compile` the model. When you print the `summary` of the model, you'll see the total number of parameters you have to train."
   ]
  },
  {
   "cell_type": "code",
   "execution_count": 6,
   "metadata": {},
   "outputs": [],
   "source": [
    "class Conv3DModel_2:\n",
    "    def define_model(self, num_image_per_video, image_width, image_height):\n",
    "        model=Sequential()\n",
    "        model.add(Conv3D(64, (3,3,3), strides=(1,1,1), padding='same', \n",
    "                           input_shape=(num_image_per_video, image_width, image_height, 3)))\n",
    "        model.add(BatchNormalization())\n",
    "        model.add(Activation('relu'))\n",
    "        model.add(MaxPooling3D(pool_size=(2,2,1), strides=(2,2,1)))\n",
    "\n",
    "        model.add(Conv3D(128, (3,3,3), strides=(1,1,1), padding='same'))\n",
    "        model.add(BatchNormalization())\n",
    "        model.add(Activation('relu'))\n",
    "        model.add(MaxPooling3D(pool_size=(2,2,2), strides=(2,2,2)))\n",
    "        model.add(Dropout(0.25))\n",
    "\n",
    "        model.add(Conv3D(256, (3,3,3), strides=(1,1,1), padding='same'))\n",
    "        model.add(BatchNormalization())\n",
    "        model.add(Activation('relu'))\n",
    "        model.add(MaxPooling3D(pool_size=(2,2,2), strides=(2,2,2)))\n",
    "        model.add(Dropout(0.25))\n",
    "\n",
    "        model.add(Flatten())\n",
    "        model.add(Dropout(0.5))\n",
    "        model.add(Dense(512, activation='relu'))\n",
    "        model.add(Dropout(0.5))\n",
    "        model.add(Dense(5, activation='softmax'))\n",
    "        \n",
    "        optimiser = optimizers.SGD(lr=0.001, decay=1e-6, momentum=0.7, nesterov=True) #write your optimizer\n",
    "        model.compile(optimizer=optimiser, loss='categorical_crossentropy', metrics=['categorical_accuracy'])\n",
    "        return model"
   ]
  },
  {
   "cell_type": "code",
   "execution_count": 7,
   "metadata": {
    "scrolled": true
   },
   "outputs": [
    {
     "ename": "NameError",
     "evalue": "name 'Sequential' is not defined",
     "output_type": "error",
     "traceback": [
      "\u001b[0;31m---------------------------------------------------------------------------\u001b[0m",
      "\u001b[0;31mNameError\u001b[0m                                 Traceback (most recent call last)",
      "\u001b[0;32m<ipython-input-7-969c469d7051>\u001b[0m in \u001b[0;36m<module>\u001b[0;34m()\u001b[0m\n\u001b[1;32m      1\u001b[0m \u001b[0mmodel3D1\u001b[0m \u001b[0;34m=\u001b[0m \u001b[0mConv3DModel_2\u001b[0m\u001b[0;34m(\u001b[0m\u001b[0;34m)\u001b[0m\u001b[0;34m\u001b[0m\u001b[0;34m\u001b[0m\u001b[0m\n\u001b[0;32m----> 2\u001b[0;31m \u001b[0mmodel3D1\u001b[0m \u001b[0;34m=\u001b[0m \u001b[0mmodel3D1\u001b[0m\u001b[0;34m.\u001b[0m\u001b[0mdefine_model\u001b[0m\u001b[0;34m(\u001b[0m\u001b[0;36m20\u001b[0m\u001b[0;34m,\u001b[0m\u001b[0;36m84\u001b[0m\u001b[0;34m,\u001b[0m\u001b[0;36m84\u001b[0m\u001b[0;34m)\u001b[0m\u001b[0;34m\u001b[0m\u001b[0;34m\u001b[0m\u001b[0m\n\u001b[0m\u001b[1;32m      3\u001b[0m \u001b[0mprint\u001b[0m\u001b[0;34m(\u001b[0m\u001b[0mmodel3D1\u001b[0m\u001b[0;34m.\u001b[0m\u001b[0msummary\u001b[0m\u001b[0;34m(\u001b[0m\u001b[0;34m)\u001b[0m\u001b[0;34m)\u001b[0m\u001b[0;34m\u001b[0m\u001b[0;34m\u001b[0m\u001b[0m\n",
      "\u001b[0;32m<ipython-input-6-19afbe2540bb>\u001b[0m in \u001b[0;36mdefine_model\u001b[0;34m(self, num_image_per_video, image_width, image_height)\u001b[0m\n\u001b[1;32m      1\u001b[0m \u001b[0;32mclass\u001b[0m \u001b[0mConv3DModel_2\u001b[0m\u001b[0;34m:\u001b[0m\u001b[0;34m\u001b[0m\u001b[0;34m\u001b[0m\u001b[0m\n\u001b[1;32m      2\u001b[0m     \u001b[0;32mdef\u001b[0m \u001b[0mdefine_model\u001b[0m\u001b[0;34m(\u001b[0m\u001b[0mself\u001b[0m\u001b[0;34m,\u001b[0m \u001b[0mnum_image_per_video\u001b[0m\u001b[0;34m,\u001b[0m \u001b[0mimage_width\u001b[0m\u001b[0;34m,\u001b[0m \u001b[0mimage_height\u001b[0m\u001b[0;34m)\u001b[0m\u001b[0;34m:\u001b[0m\u001b[0;34m\u001b[0m\u001b[0;34m\u001b[0m\u001b[0m\n\u001b[0;32m----> 3\u001b[0;31m         \u001b[0mmodel\u001b[0m\u001b[0;34m=\u001b[0m\u001b[0mSequential\u001b[0m\u001b[0;34m(\u001b[0m\u001b[0;34m)\u001b[0m\u001b[0;34m\u001b[0m\u001b[0;34m\u001b[0m\u001b[0m\n\u001b[0m\u001b[1;32m      4\u001b[0m         model.add(Conv3D(64, (3,3,3), strides=(1,1,1), padding='same', \n\u001b[1;32m      5\u001b[0m                            input_shape=(num_image_per_video, image_width, image_height, 3)))\n",
      "\u001b[0;31mNameError\u001b[0m: name 'Sequential' is not defined"
     ]
    }
   ],
   "source": [
    "model3D1 = Conv3DModel_2()\n",
    "model3D1 = model3D1.define_model(20,84,84)\n",
    "print(model3D1.summary())"
   ]
  },
  {
   "cell_type": "code",
   "execution_count": 24,
   "metadata": {},
   "outputs": [
    {
     "name": "stdout",
     "output_type": "stream",
     "text": [
      "Source path = Source path =  Epoch 1/30./Project_data/train ; batch size = 20\n",
      "\n",
      " ./Project_data/val ; batch size = 20\n"
     ]
    },
    {
     "name": "stderr",
     "output_type": "stream",
     "text": [
      "/mnt/disks/user/anaconda3/lib/python3.6/site-packages/ipykernel_launcher.py:13: DeprecationWarning: `imread` is deprecated!\n",
      "`imread` is deprecated in SciPy 1.0.0, and will be removed in 1.2.0.\n",
      "Use ``imageio.imread`` instead.\n",
      "  del sys.path[0]\n",
      "/mnt/disks/user/anaconda3/lib/python3.6/site-packages/skimage/transform/_warps.py:105: UserWarning: The default mode, 'constant', will be changed to 'reflect' in skimage 0.15.\n",
      "  warn(\"The default mode, 'constant', will be changed to 'reflect' in \"\n",
      "/mnt/disks/user/anaconda3/lib/python3.6/site-packages/skimage/transform/_warps.py:110: UserWarning: Anti-aliasing will be enabled by default in skimage 0.15 to avoid aliasing artifacts when down-sampling images.\n",
      "  warn(\"Anti-aliasing will be enabled by default in skimage 0.15 to \"\n"
     ]
    },
    {
     "name": "stdout",
     "output_type": "stream",
     "text": [
      "25/34 [=====================>........] - ETA: 19s - loss: 12.1498 - categorical_accuracy: 0.1960"
     ]
    },
    {
     "ename": "KeyboardInterrupt",
     "evalue": "",
     "output_type": "error",
     "traceback": [
      "\u001b[0;31m---------------------------------------------------------------------------\u001b[0m",
      "\u001b[0;31mKeyboardInterrupt\u001b[0m                         Traceback (most recent call last)",
      "\u001b[0;32m<ipython-input-24-e1831fb60cd8>\u001b[0m in \u001b[0;36m<module>\u001b[0;34m()\u001b[0m\n\u001b[0;32m----> 1\u001b[0;31m \u001b[0mtrain_model\u001b[0m\u001b[0;34m(\u001b[0m\u001b[0mmodel3D1\u001b[0m\u001b[0;34m,\u001b[0m \u001b[0;36m30\u001b[0m\u001b[0;34m,\u001b[0m \u001b[0;36m20\u001b[0m\u001b[0;34m,\u001b[0m \u001b[0;36m84\u001b[0m\u001b[0;34m,\u001b[0m \u001b[0;36m84\u001b[0m\u001b[0;34m,\u001b[0m \u001b[0;36m20\u001b[0m\u001b[0;34m)\u001b[0m\u001b[0;34m\u001b[0m\u001b[0;34m\u001b[0m\u001b[0m\n\u001b[0m",
      "\u001b[0;32m<ipython-input-7-5e4b8af25b36>\u001b[0m in \u001b[0;36mtrain_model\u001b[0;34m(model, num_epochs, num_image_per_video, image_width, image_height, batch_size)\u001b[0m\n\u001b[1;32m     31\u001b[0m     model.fit_generator(train_generator, steps_per_epoch=steps_per_epoch, epochs=num_epochs, verbose=1, \n\u001b[1;32m     32\u001b[0m                     \u001b[0mcallbacks\u001b[0m\u001b[0;34m=\u001b[0m\u001b[0mcallbacks_list\u001b[0m\u001b[0;34m,\u001b[0m \u001b[0mvalidation_data\u001b[0m\u001b[0;34m=\u001b[0m\u001b[0mval_generator\u001b[0m\u001b[0;34m,\u001b[0m\u001b[0;34m\u001b[0m\u001b[0;34m\u001b[0m\u001b[0m\n\u001b[0;32m---> 33\u001b[0;31m                     validation_steps=validation_steps, class_weight=None, workers=1, initial_epoch=0)\n\u001b[0m",
      "\u001b[0;32m/mnt/disks/user/anaconda3/lib/python3.6/site-packages/keras/legacy/interfaces.py\u001b[0m in \u001b[0;36mwrapper\u001b[0;34m(*args, **kwargs)\u001b[0m\n\u001b[1;32m     89\u001b[0m                 warnings.warn('Update your `' + object_name +\n\u001b[1;32m     90\u001b[0m                               '` call to the Keras 2 API: ' + signature, stacklevel=2)\n\u001b[0;32m---> 91\u001b[0;31m             \u001b[0;32mreturn\u001b[0m \u001b[0mfunc\u001b[0m\u001b[0;34m(\u001b[0m\u001b[0;34m*\u001b[0m\u001b[0margs\u001b[0m\u001b[0;34m,\u001b[0m \u001b[0;34m**\u001b[0m\u001b[0mkwargs\u001b[0m\u001b[0;34m)\u001b[0m\u001b[0;34m\u001b[0m\u001b[0;34m\u001b[0m\u001b[0m\n\u001b[0m\u001b[1;32m     92\u001b[0m         \u001b[0mwrapper\u001b[0m\u001b[0;34m.\u001b[0m\u001b[0m_original_function\u001b[0m \u001b[0;34m=\u001b[0m \u001b[0mfunc\u001b[0m\u001b[0;34m\u001b[0m\u001b[0;34m\u001b[0m\u001b[0m\n\u001b[1;32m     93\u001b[0m         \u001b[0;32mreturn\u001b[0m \u001b[0mwrapper\u001b[0m\u001b[0;34m\u001b[0m\u001b[0;34m\u001b[0m\u001b[0m\n",
      "\u001b[0;32m/mnt/disks/user/anaconda3/lib/python3.6/site-packages/keras/engine/training.py\u001b[0m in \u001b[0;36mfit_generator\u001b[0;34m(self, generator, steps_per_epoch, epochs, verbose, callbacks, validation_data, validation_steps, class_weight, max_queue_size, workers, use_multiprocessing, shuffle, initial_epoch)\u001b[0m\n\u001b[1;32m   1413\u001b[0m             \u001b[0muse_multiprocessing\u001b[0m\u001b[0;34m=\u001b[0m\u001b[0muse_multiprocessing\u001b[0m\u001b[0;34m,\u001b[0m\u001b[0;34m\u001b[0m\u001b[0;34m\u001b[0m\u001b[0m\n\u001b[1;32m   1414\u001b[0m             \u001b[0mshuffle\u001b[0m\u001b[0;34m=\u001b[0m\u001b[0mshuffle\u001b[0m\u001b[0;34m,\u001b[0m\u001b[0;34m\u001b[0m\u001b[0;34m\u001b[0m\u001b[0m\n\u001b[0;32m-> 1415\u001b[0;31m             initial_epoch=initial_epoch)\n\u001b[0m\u001b[1;32m   1416\u001b[0m \u001b[0;34m\u001b[0m\u001b[0m\n\u001b[1;32m   1417\u001b[0m     \u001b[0;34m@\u001b[0m\u001b[0minterfaces\u001b[0m\u001b[0;34m.\u001b[0m\u001b[0mlegacy_generator_methods_support\u001b[0m\u001b[0;34m\u001b[0m\u001b[0;34m\u001b[0m\u001b[0m\n",
      "\u001b[0;32m/mnt/disks/user/anaconda3/lib/python3.6/site-packages/keras/engine/training_generator.py\u001b[0m in \u001b[0;36mfit_generator\u001b[0;34m(model, generator, steps_per_epoch, epochs, verbose, callbacks, validation_data, validation_steps, class_weight, max_queue_size, workers, use_multiprocessing, shuffle, initial_epoch)\u001b[0m\n\u001b[1;32m    211\u001b[0m                 outs = model.train_on_batch(x, y,\n\u001b[1;32m    212\u001b[0m                                             \u001b[0msample_weight\u001b[0m\u001b[0;34m=\u001b[0m\u001b[0msample_weight\u001b[0m\u001b[0;34m,\u001b[0m\u001b[0;34m\u001b[0m\u001b[0;34m\u001b[0m\u001b[0m\n\u001b[0;32m--> 213\u001b[0;31m                                             class_weight=class_weight)\n\u001b[0m\u001b[1;32m    214\u001b[0m \u001b[0;34m\u001b[0m\u001b[0m\n\u001b[1;32m    215\u001b[0m                 \u001b[0mouts\u001b[0m \u001b[0;34m=\u001b[0m \u001b[0mto_list\u001b[0m\u001b[0;34m(\u001b[0m\u001b[0mouts\u001b[0m\u001b[0;34m)\u001b[0m\u001b[0;34m\u001b[0m\u001b[0;34m\u001b[0m\u001b[0m\n",
      "\u001b[0;32m/mnt/disks/user/anaconda3/lib/python3.6/site-packages/keras/engine/training.py\u001b[0m in \u001b[0;36mtrain_on_batch\u001b[0;34m(self, x, y, sample_weight, class_weight)\u001b[0m\n\u001b[1;32m   1213\u001b[0m             \u001b[0mins\u001b[0m \u001b[0;34m=\u001b[0m \u001b[0mx\u001b[0m \u001b[0;34m+\u001b[0m \u001b[0my\u001b[0m \u001b[0;34m+\u001b[0m \u001b[0msample_weights\u001b[0m\u001b[0;34m\u001b[0m\u001b[0;34m\u001b[0m\u001b[0m\n\u001b[1;32m   1214\u001b[0m         \u001b[0mself\u001b[0m\u001b[0;34m.\u001b[0m\u001b[0m_make_train_function\u001b[0m\u001b[0;34m(\u001b[0m\u001b[0;34m)\u001b[0m\u001b[0;34m\u001b[0m\u001b[0;34m\u001b[0m\u001b[0m\n\u001b[0;32m-> 1215\u001b[0;31m         \u001b[0moutputs\u001b[0m \u001b[0;34m=\u001b[0m \u001b[0mself\u001b[0m\u001b[0;34m.\u001b[0m\u001b[0mtrain_function\u001b[0m\u001b[0;34m(\u001b[0m\u001b[0mins\u001b[0m\u001b[0;34m)\u001b[0m\u001b[0;34m\u001b[0m\u001b[0;34m\u001b[0m\u001b[0m\n\u001b[0m\u001b[1;32m   1216\u001b[0m         \u001b[0;32mreturn\u001b[0m \u001b[0munpack_singleton\u001b[0m\u001b[0;34m(\u001b[0m\u001b[0moutputs\u001b[0m\u001b[0;34m)\u001b[0m\u001b[0;34m\u001b[0m\u001b[0;34m\u001b[0m\u001b[0m\n\u001b[1;32m   1217\u001b[0m \u001b[0;34m\u001b[0m\u001b[0m\n",
      "\u001b[0;32m/mnt/disks/user/anaconda3/lib/python3.6/site-packages/keras/backend/tensorflow_backend.py\u001b[0m in \u001b[0;36m__call__\u001b[0;34m(self, inputs)\u001b[0m\n\u001b[1;32m   2664\u001b[0m                 \u001b[0;32mreturn\u001b[0m \u001b[0mself\u001b[0m\u001b[0;34m.\u001b[0m\u001b[0m_legacy_call\u001b[0m\u001b[0;34m(\u001b[0m\u001b[0minputs\u001b[0m\u001b[0;34m)\u001b[0m\u001b[0;34m\u001b[0m\u001b[0;34m\u001b[0m\u001b[0m\n\u001b[1;32m   2665\u001b[0m \u001b[0;34m\u001b[0m\u001b[0m\n\u001b[0;32m-> 2666\u001b[0;31m             \u001b[0;32mreturn\u001b[0m \u001b[0mself\u001b[0m\u001b[0;34m.\u001b[0m\u001b[0m_call\u001b[0m\u001b[0;34m(\u001b[0m\u001b[0minputs\u001b[0m\u001b[0;34m)\u001b[0m\u001b[0;34m\u001b[0m\u001b[0;34m\u001b[0m\u001b[0m\n\u001b[0m\u001b[1;32m   2667\u001b[0m         \u001b[0;32melse\u001b[0m\u001b[0;34m:\u001b[0m\u001b[0;34m\u001b[0m\u001b[0;34m\u001b[0m\u001b[0m\n\u001b[1;32m   2668\u001b[0m             \u001b[0;32mif\u001b[0m \u001b[0mpy_any\u001b[0m\u001b[0;34m(\u001b[0m\u001b[0mis_tensor\u001b[0m\u001b[0;34m(\u001b[0m\u001b[0mx\u001b[0m\u001b[0;34m)\u001b[0m \u001b[0;32mfor\u001b[0m \u001b[0mx\u001b[0m \u001b[0;32min\u001b[0m \u001b[0minputs\u001b[0m\u001b[0;34m)\u001b[0m\u001b[0;34m:\u001b[0m\u001b[0;34m\u001b[0m\u001b[0;34m\u001b[0m\u001b[0m\n",
      "\u001b[0;32m/mnt/disks/user/anaconda3/lib/python3.6/site-packages/keras/backend/tensorflow_backend.py\u001b[0m in \u001b[0;36m_call\u001b[0;34m(self, inputs)\u001b[0m\n\u001b[1;32m   2634\u001b[0m                                 \u001b[0msymbol_vals\u001b[0m\u001b[0;34m,\u001b[0m\u001b[0;34m\u001b[0m\u001b[0;34m\u001b[0m\u001b[0m\n\u001b[1;32m   2635\u001b[0m                                 session)\n\u001b[0;32m-> 2636\u001b[0;31m         \u001b[0mfetched\u001b[0m \u001b[0;34m=\u001b[0m \u001b[0mself\u001b[0m\u001b[0;34m.\u001b[0m\u001b[0m_callable_fn\u001b[0m\u001b[0;34m(\u001b[0m\u001b[0;34m*\u001b[0m\u001b[0marray_vals\u001b[0m\u001b[0;34m)\u001b[0m\u001b[0;34m\u001b[0m\u001b[0;34m\u001b[0m\u001b[0m\n\u001b[0m\u001b[1;32m   2637\u001b[0m         \u001b[0;32mreturn\u001b[0m \u001b[0mfetched\u001b[0m\u001b[0;34m[\u001b[0m\u001b[0;34m:\u001b[0m\u001b[0mlen\u001b[0m\u001b[0;34m(\u001b[0m\u001b[0mself\u001b[0m\u001b[0;34m.\u001b[0m\u001b[0moutputs\u001b[0m\u001b[0;34m)\u001b[0m\u001b[0;34m]\u001b[0m\u001b[0;34m\u001b[0m\u001b[0;34m\u001b[0m\u001b[0m\n\u001b[1;32m   2638\u001b[0m \u001b[0;34m\u001b[0m\u001b[0m\n",
      "\u001b[0;32m/mnt/disks/user/anaconda3/lib/python3.6/site-packages/tensorflow/python/client/session.py\u001b[0m in \u001b[0;36m__call__\u001b[0;34m(self, *args, **kwargs)\u001b[0m\n\u001b[1;32m   1380\u001b[0m           ret = tf_session.TF_SessionRunCallable(\n\u001b[1;32m   1381\u001b[0m               \u001b[0mself\u001b[0m\u001b[0;34m.\u001b[0m\u001b[0m_session\u001b[0m\u001b[0;34m.\u001b[0m\u001b[0m_session\u001b[0m\u001b[0;34m,\u001b[0m \u001b[0mself\u001b[0m\u001b[0;34m.\u001b[0m\u001b[0m_handle\u001b[0m\u001b[0;34m,\u001b[0m \u001b[0margs\u001b[0m\u001b[0;34m,\u001b[0m \u001b[0mstatus\u001b[0m\u001b[0;34m,\u001b[0m\u001b[0;34m\u001b[0m\u001b[0;34m\u001b[0m\u001b[0m\n\u001b[0;32m-> 1382\u001b[0;31m               run_metadata_ptr)\n\u001b[0m\u001b[1;32m   1383\u001b[0m         \u001b[0;32mif\u001b[0m \u001b[0mrun_metadata\u001b[0m\u001b[0;34m:\u001b[0m\u001b[0;34m\u001b[0m\u001b[0;34m\u001b[0m\u001b[0m\n\u001b[1;32m   1384\u001b[0m           \u001b[0mproto_data\u001b[0m \u001b[0;34m=\u001b[0m \u001b[0mtf_session\u001b[0m\u001b[0;34m.\u001b[0m\u001b[0mTF_GetBuffer\u001b[0m\u001b[0;34m(\u001b[0m\u001b[0mrun_metadata_ptr\u001b[0m\u001b[0;34m)\u001b[0m\u001b[0;34m\u001b[0m\u001b[0;34m\u001b[0m\u001b[0m\n",
      "\u001b[0;31mKeyboardInterrupt\u001b[0m: "
     ]
    }
   ],
   "source": [
    "train_model(model3D1, 30, 20, 84, 84, 20)"
   ]
  },
  {
   "cell_type": "markdown",
   "metadata": {},
   "source": [
    "### Model 4: Convolutional 3D Mode with increased number of layers"
   ]
  },
  {
   "cell_type": "code",
   "execution_count": 9,
   "metadata": {},
   "outputs": [],
   "source": [
    "class Conv3DModel_1:\n",
    "    def define_model(self, num_image_per_video, image_width, image_height):\n",
    "        model=Sequential()\n",
    "        model.add(Conv3D(64, (3,3,3), strides=(1,1,1), padding='same', \n",
    "                           input_shape=(num_image_per_video, image_width, image_height, 3)))\n",
    "        model.add(BatchNormalization())\n",
    "        model.add(Activation('relu'))\n",
    "        model.add(MaxPooling3D(pool_size=(2,2,1), strides=(2,2,1)))\n",
    "\n",
    "        model.add(Conv3D(128, (3,3,3), strides=(1,1,1), padding='same'))\n",
    "        model.add(BatchNormalization())\n",
    "        model.add(Activation('relu'))\n",
    "        model.add(MaxPooling3D(pool_size=(2,2,2), strides=(2,2,2)))\n",
    "        model.add(Dropout(0.25))\n",
    "\n",
    "        model.add(Conv3D(256, (3,3,3), strides=(1,1,1), padding='same'))\n",
    "        model.add(BatchNormalization())\n",
    "        model.add(Activation('relu'))\n",
    "        model.add(MaxPooling3D(pool_size=(2,2,2), strides=(2,2,2)))\n",
    "        model.add(Dropout(0.25))\n",
    "\n",
    "        model.add(Conv3D(256, (3,3,3), strides=(1,1,1), padding='same'))\n",
    "        model.add(BatchNormalization())\n",
    "        model.add(Activation('relu'))\n",
    "        model.add(MaxPooling3D(pool_size=(2,2,2), strides=(2,2,2)))\n",
    "\n",
    "        model.add(Flatten())\n",
    "        model.add(Dropout(0.5))\n",
    "        model.add(Dense(512, activation='relu'))\n",
    "        model.add(Dropout(0.5))\n",
    "        model.add(Dense(5, activation='softmax'))\n",
    "        \n",
    "        optimiser = optimizers.SGD(lr=0.001, decay=1e-6, momentum=0.7, nesterov=True) #write your optimizer\n",
    "        model.compile(optimizer=optimiser, loss='categorical_crossentropy', metrics=['categorical_accuracy'])\n",
    "        return model"
   ]
  },
  {
   "cell_type": "markdown",
   "metadata": {},
   "source": [
    "### Experiment Run 7: Image Res (84 X 84), Epochs = 30, Batch size = 20, Number of images per video = 20, Increase number of layers"
   ]
  },
  {
   "cell_type": "code",
   "execution_count": 10,
   "metadata": {},
   "outputs": [
    {
     "name": "stdout",
     "output_type": "stream",
     "text": [
      "_________________________________________________________________\n",
      "Layer (type)                 Output Shape              Param #   \n",
      "=================================================================\n",
      "conv3d_1 (Conv3D)            (None, 20, 84, 84, 64)    5248      \n",
      "_________________________________________________________________\n",
      "batch_normalization_1 (Batch (None, 20, 84, 84, 64)    256       \n",
      "_________________________________________________________________\n",
      "activation_1 (Activation)    (None, 20, 84, 84, 64)    0         \n",
      "_________________________________________________________________\n",
      "max_pooling3d_1 (MaxPooling3 (None, 10, 42, 84, 64)    0         \n",
      "_________________________________________________________________\n",
      "conv3d_2 (Conv3D)            (None, 10, 42, 84, 128)   221312    \n",
      "_________________________________________________________________\n",
      "batch_normalization_2 (Batch (None, 10, 42, 84, 128)   512       \n",
      "_________________________________________________________________\n",
      "activation_2 (Activation)    (None, 10, 42, 84, 128)   0         \n",
      "_________________________________________________________________\n",
      "max_pooling3d_2 (MaxPooling3 (None, 5, 21, 42, 128)    0         \n",
      "_________________________________________________________________\n",
      "dropout_1 (Dropout)          (None, 5, 21, 42, 128)    0         \n",
      "_________________________________________________________________\n",
      "conv3d_3 (Conv3D)            (None, 5, 21, 42, 256)    884992    \n",
      "_________________________________________________________________\n",
      "batch_normalization_3 (Batch (None, 5, 21, 42, 256)    1024      \n",
      "_________________________________________________________________\n",
      "activation_3 (Activation)    (None, 5, 21, 42, 256)    0         \n",
      "_________________________________________________________________\n",
      "max_pooling3d_3 (MaxPooling3 (None, 2, 10, 21, 256)    0         \n",
      "_________________________________________________________________\n",
      "dropout_2 (Dropout)          (None, 2, 10, 21, 256)    0         \n",
      "_________________________________________________________________\n",
      "conv3d_4 (Conv3D)            (None, 2, 10, 21, 256)    1769728   \n",
      "_________________________________________________________________\n",
      "batch_normalization_4 (Batch (None, 2, 10, 21, 256)    1024      \n",
      "_________________________________________________________________\n",
      "activation_4 (Activation)    (None, 2, 10, 21, 256)    0         \n",
      "_________________________________________________________________\n",
      "max_pooling3d_4 (MaxPooling3 (None, 1, 5, 10, 256)     0         \n",
      "_________________________________________________________________\n",
      "flatten_1 (Flatten)          (None, 12800)             0         \n",
      "_________________________________________________________________\n",
      "dropout_3 (Dropout)          (None, 12800)             0         \n",
      "_________________________________________________________________\n",
      "dense_1 (Dense)              (None, 512)               6554112   \n",
      "_________________________________________________________________\n",
      "dropout_4 (Dropout)          (None, 512)               0         \n",
      "_________________________________________________________________\n",
      "dense_2 (Dense)              (None, 5)                 2565      \n",
      "=================================================================\n",
      "Total params: 9,440,773\n",
      "Trainable params: 9,439,365\n",
      "Non-trainable params: 1,408\n",
      "_________________________________________________________________\n",
      "None\n"
     ]
    }
   ],
   "source": [
    "model3D = Conv3DModel_1()\n",
    "model3D = model3D.define_model(20,84,84)\n",
    "print(model3D.summary())"
   ]
  },
  {
   "cell_type": "code",
   "execution_count": 11,
   "metadata": {},
   "outputs": [
    {
     "name": "stdout",
     "output_type": "stream",
     "text": [
      "Source path =  ./Project_data/val ; batch size = 20\n",
      "Source path =  ./Project_data/train ; batch size = 20\n",
      "Epoch 1/25\n"
     ]
    },
    {
     "name": "stderr",
     "output_type": "stream",
     "text": [
      "/mnt/disks/user/anaconda3/lib/python3.6/site-packages/ipykernel_launcher.py:13: DeprecationWarning: `imread` is deprecated!\n",
      "`imread` is deprecated in SciPy 1.0.0, and will be removed in 1.2.0.\n",
      "Use ``imageio.imread`` instead.\n",
      "  del sys.path[0]\n",
      "/mnt/disks/user/anaconda3/lib/python3.6/site-packages/skimage/transform/_warps.py:105: UserWarning: The default mode, 'constant', will be changed to 'reflect' in skimage 0.15.\n",
      "  warn(\"The default mode, 'constant', will be changed to 'reflect' in \"\n",
      "/mnt/disks/user/anaconda3/lib/python3.6/site-packages/skimage/transform/_warps.py:110: UserWarning: Anti-aliasing will be enabled by default in skimage 0.15 to avoid aliasing artifacts when down-sampling images.\n",
      "  warn(\"Anti-aliasing will be enabled by default in skimage 0.15 to \"\n"
     ]
    },
    {
     "name": "stdout",
     "output_type": "stream",
     "text": [
      "34/34 [==============================] - 158s 5s/step - loss: 3.3024 - categorical_accuracy: 0.2598 - val_loss: 1.3844 - val_categorical_accuracy: 0.3900\n",
      "\n",
      "Epoch 00001: saving model to model_init_2020-11-0917_08_40.643412/model-00001-3.34422-0.25792-1.38437-0.39000.h5\n",
      "Epoch 2/25\n",
      "34/34 [==============================] - 93s 3s/step - loss: 1.6105 - categorical_accuracy: 0.3127 - val_loss: 1.2549 - val_categorical_accuracy: 0.5300\n",
      "\n",
      "Epoch 00002: saving model to model_init_2020-11-0917_08_40.643412/model-00002-1.62085-0.31222-1.25487-0.53000.h5\n",
      "Epoch 3/25\n",
      "34/34 [==============================] - 67s 2s/step - loss: 1.4299 - categorical_accuracy: 0.4106 - val_loss: 1.2824 - val_categorical_accuracy: 0.4800\n",
      "\n",
      "Epoch 00003: saving model to model_init_2020-11-0917_08_40.643412/model-00003-1.42702-0.40422-1.28244-0.48000.h5\n",
      "Epoch 4/25\n",
      "34/34 [==============================] - 61s 2s/step - loss: 1.3974 - categorical_accuracy: 0.3915 - val_loss: 1.2331 - val_categorical_accuracy: 0.5400\n",
      "\n",
      "Epoch 00004: saving model to model_init_2020-11-0917_08_40.643412/model-00004-1.40976-0.38462-1.23313-0.54000.h5\n",
      "Epoch 5/25\n",
      "34/34 [==============================] - 61s 2s/step - loss: 1.3269 - categorical_accuracy: 0.4275 - val_loss: 1.2326 - val_categorical_accuracy: 0.5200\n",
      "\n",
      "Epoch 00005: saving model to model_init_2020-11-0917_08_40.643412/model-00005-1.31697-0.42986-1.23264-0.52000.h5\n",
      "Epoch 6/25\n",
      "34/34 [==============================] - 61s 2s/step - loss: 1.2585 - categorical_accuracy: 0.4422 - val_loss: 1.1335 - val_categorical_accuracy: 0.5400\n",
      "\n",
      "Epoch 00006: saving model to model_init_2020-11-0917_08_40.643412/model-00006-1.28180-0.42836-1.13352-0.54000.h5\n",
      "Epoch 7/25\n",
      "34/34 [==============================] - 61s 2s/step - loss: 1.2182 - categorical_accuracy: 0.4415 - val_loss: 1.3853 - val_categorical_accuracy: 0.4900\n",
      "\n",
      "Epoch 00007: saving model to model_init_2020-11-0917_08_40.643412/model-00007-1.21003-0.45249-1.38535-0.49000.h5\n",
      "Epoch 8/25\n",
      "34/34 [==============================] - 62s 2s/step - loss: 1.2160 - categorical_accuracy: 0.4849 - val_loss: 1.2438 - val_categorical_accuracy: 0.5400\n",
      "\n",
      "Epoch 00008: saving model to model_init_2020-11-0917_08_40.643412/model-00008-1.20111-0.48869-1.24375-0.54000.h5\n",
      "Epoch 9/25\n",
      "34/34 [==============================] - 61s 2s/step - loss: 1.1617 - categorical_accuracy: 0.5063 - val_loss: 1.1529 - val_categorical_accuracy: 0.5600\n",
      "\n",
      "Epoch 00009: saving model to model_init_2020-11-0917_08_40.643412/model-00009-1.16778-0.50226-1.15292-0.56000.h5\n",
      "Epoch 10/25\n",
      "34/34 [==============================] - 60s 2s/step - loss: 1.1474 - categorical_accuracy: 0.4923 - val_loss: 1.1994 - val_categorical_accuracy: 0.5600\n",
      "\n",
      "Epoch 00010: saving model to model_init_2020-11-0917_08_40.643412/model-00010-1.14280-0.49623-1.19938-0.56000.h5\n",
      "Epoch 11/25\n",
      "34/34 [==============================] - 61s 2s/step - loss: 1.1541 - categorical_accuracy: 0.4982 - val_loss: 1.2169 - val_categorical_accuracy: 0.5600\n",
      "\n",
      "Epoch 00011: saving model to model_init_2020-11-0917_08_40.643412/model-00011-1.14283-0.50226-1.21691-0.56000.h5\n",
      "Epoch 12/25\n",
      "34/34 [==============================] - 61s 2s/step - loss: 1.1114 - categorical_accuracy: 0.5040 - val_loss: 1.2295 - val_categorical_accuracy: 0.5500\n",
      "\n",
      "Epoch 00012: saving model to model_init_2020-11-0917_08_40.643412/model-00012-1.11197-0.50830-1.22950-0.55000.h5\n",
      "Epoch 13/25\n",
      "34/34 [==============================] - 61s 2s/step - loss: 1.1222 - categorical_accuracy: 0.5151 - val_loss: 1.2097 - val_categorical_accuracy: 0.5500\n",
      "\n",
      "Epoch 00013: saving model to model_init_2020-11-0917_08_40.643412/model-00013-1.11821-0.51131-1.20966-0.55000.h5\n",
      "Epoch 14/25\n",
      "34/34 [==============================] - 61s 2s/step - loss: 1.0905 - categorical_accuracy: 0.5327 - val_loss: 1.1889 - val_categorical_accuracy: 0.5700\n",
      "\n",
      "Epoch 00014: saving model to model_init_2020-11-0917_08_40.643412/model-00014-1.07584-0.54600-1.18887-0.57000.h5\n",
      "Epoch 15/25\n",
      "34/34 [==============================] - 61s 2s/step - loss: 1.1026 - categorical_accuracy: 0.5026 - val_loss: 1.2123 - val_categorical_accuracy: 0.5500\n",
      "\n",
      "Epoch 00015: saving model to model_init_2020-11-0917_08_40.643412/model-00015-1.10528-0.50679-1.21232-0.55000.h5\n",
      "Epoch 16/25\n",
      "34/34 [==============================] - 61s 2s/step - loss: 1.0857 - categorical_accuracy: 0.5570 - val_loss: 1.2219 - val_categorical_accuracy: 0.5500\n",
      "\n",
      "Epoch 00016: saving model to model_init_2020-11-0917_08_40.643412/model-00016-1.06443-0.56259-1.22190-0.55000.h5\n",
      "Epoch 17/25\n",
      "34/34 [==============================] - 61s 2s/step - loss: 1.1452 - categorical_accuracy: 0.4945 - val_loss: 1.2220 - val_categorical_accuracy: 0.5600\n",
      "\n",
      "Epoch 00017: saving model to model_init_2020-11-0917_08_40.643412/model-00017-1.14239-0.50679-1.22200-0.56000.h5\n",
      "Epoch 18/25\n",
      "34/34 [==============================] - 61s 2s/step - loss: 1.0410 - categorical_accuracy: 0.5423 - val_loss: 1.2180 - val_categorical_accuracy: 0.5600\n",
      "\n",
      "Epoch 00018: saving model to model_init_2020-11-0917_08_40.643412/model-00018-1.04874-0.54751-1.21799-0.56000.h5\n",
      "Epoch 19/25\n",
      "34/34 [==============================] - 61s 2s/step - loss: 1.0542 - categorical_accuracy: 0.5710 - val_loss: 1.2243 - val_categorical_accuracy: 0.5600\n",
      "\n",
      "Epoch 00019: saving model to model_init_2020-11-0917_08_40.643412/model-00019-1.06157-0.56863-1.22435-0.56000.h5\n",
      "Epoch 20/25\n",
      "34/34 [==============================] - 61s 2s/step - loss: 1.0899 - categorical_accuracy: 0.5151 - val_loss: 1.2507 - val_categorical_accuracy: 0.5700\n",
      "\n",
      "Epoch 00020: saving model to model_init_2020-11-0917_08_40.643412/model-00020-1.08023-0.52790-1.25070-0.57000.h5\n",
      "Epoch 21/25\n",
      "34/34 [==============================] - 61s 2s/step - loss: 1.0691 - categorical_accuracy: 0.5460 - val_loss: 1.2477 - val_categorical_accuracy: 0.5500\n",
      "\n",
      "Epoch 00021: saving model to model_init_2020-11-0917_08_40.643412/model-00021-1.06318-0.55958-1.24770-0.55000.h5\n",
      "Epoch 22/25\n",
      "34/34 [==============================] - 60s 2s/step - loss: 1.0404 - categorical_accuracy: 0.5659 - val_loss: 1.2510 - val_categorical_accuracy: 0.5600\n",
      "\n",
      "Epoch 00022: saving model to model_init_2020-11-0917_08_40.643412/model-00022-1.05584-0.55505-1.25096-0.56000.h5\n",
      "Epoch 23/25\n",
      "34/34 [==============================] - 61s 2s/step - loss: 1.0168 - categorical_accuracy: 0.5946 - val_loss: 1.2466 - val_categorical_accuracy: 0.5500\n",
      "\n",
      "Epoch 00023: saving model to model_init_2020-11-0917_08_40.643412/model-00023-1.02062-0.59276-1.24659-0.55000.h5\n",
      "Epoch 24/25\n",
      "34/34 [==============================] - 61s 2s/step - loss: 1.0546 - categorical_accuracy: 0.5629 - val_loss: 1.2482 - val_categorical_accuracy: 0.5400\n",
      "\n",
      "Epoch 00024: saving model to model_init_2020-11-0917_08_40.643412/model-00024-1.06797-0.55204-1.24818-0.54000.h5\n",
      "Epoch 25/25\n",
      "34/34 [==============================] - 60s 2s/step - loss: 1.0465 - categorical_accuracy: 0.5526 - val_loss: 1.2322 - val_categorical_accuracy: 0.5600\n",
      "\n",
      "Epoch 00025: saving model to model_init_2020-11-0917_08_40.643412/model-00025-1.04029-0.55807-1.23223-0.56000.h5\n"
     ]
    }
   ],
   "source": [
    "train_model(model3D, 25, 20, 84, 84, 20)"
   ]
  }
 ],
 "metadata": {
  "kernelspec": {
   "display_name": "Python 3",
   "language": "python",
   "name": "python3"
  },
  "language_info": {
   "codemirror_mode": {
    "name": "ipython",
    "version": 3
   },
   "file_extension": ".py",
   "mimetype": "text/x-python",
   "name": "python",
   "nbconvert_exporter": "python",
   "pygments_lexer": "ipython3",
   "version": "3.6.8"
  }
 },
 "nbformat": 4,
 "nbformat_minor": 4
}
